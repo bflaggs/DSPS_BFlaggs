{
  "nbformat": 4,
  "nbformat_minor": 0,
  "metadata": {
    "colab": {
      "name": "ffnn_digit_recognition.ipynb",
      "provenance": [],
      "collapsed_sections": [],
      "authorship_tag": "ABX9TyMVn0zhyPd8CQ99ga9c1M+T",
      "include_colab_link": true
    },
    "kernelspec": {
      "name": "python3",
      "display_name": "Python 3"
    },
    "language_info": {
      "name": "python"
    },
    "accelerator": "GPU"
  },
  "cells": [
    {
      "cell_type": "markdown",
      "metadata": {
        "id": "view-in-github",
        "colab_type": "text"
      },
      "source": [
        "<a href=\"https://colab.research.google.com/github/bflaggs/DSPS_BFlaggs/blob/main/HW10/ffnn_digit_recognition.ipynb\" target=\"_parent\"><img src=\"https://colab.research.google.com/assets/colab-badge.svg\" alt=\"Open In Colab\"/></a>"
      ]
    },
    {
      "cell_type": "markdown",
      "metadata": {
        "id": "H4otaGu2TDvP"
      },
      "source": [
        "# Must change runtime to GPU!!!!!\n",
        "\n",
        "### Do this by...\n",
        "Runtime -> Change runtime type -> GPU"
      ]
    },
    {
      "cell_type": "markdown",
      "metadata": {
        "id": "nOJavHFKTV5d"
      },
      "source": [
        "### Must do this before doing anything or else you will have to rerun everything."
      ]
    },
    {
      "cell_type": "code",
      "metadata": {
        "id": "qHwKMLDBXQUj"
      },
      "source": [
        "import keras\n",
        "from keras.datasets import mnist\n",
        "from keras.models import Sequential\n",
        "from keras.layers import Dense\n",
        "\n",
        "from keras import optimizers\n",
        "\n",
        "import pylab as pl\n",
        "import numpy as np\n",
        "import matplotlib.pyplot as plt\n",
        "\n"
      ],
      "execution_count": 56,
      "outputs": []
    },
    {
      "cell_type": "code",
      "metadata": {
        "colab": {
          "base_uri": "https://localhost:8080/"
        },
        "id": "_b41_84aTdmg",
        "outputId": "8a8124d5-5077-413f-c016-fe43758b843c"
      },
      "source": [
        "mnist.load_data()"
      ],
      "execution_count": 2,
      "outputs": [
        {
          "output_type": "stream",
          "name": "stdout",
          "text": [
            "Downloading data from https://storage.googleapis.com/tensorflow/tf-keras-datasets/mnist.npz\n",
            "11493376/11490434 [==============================] - 0s 0us/step\n",
            "11501568/11490434 [==============================] - 0s 0us/step\n"
          ]
        },
        {
          "output_type": "execute_result",
          "data": {
            "text/plain": [
              "((array([[[0, 0, 0, ..., 0, 0, 0],\n",
              "          [0, 0, 0, ..., 0, 0, 0],\n",
              "          [0, 0, 0, ..., 0, 0, 0],\n",
              "          ...,\n",
              "          [0, 0, 0, ..., 0, 0, 0],\n",
              "          [0, 0, 0, ..., 0, 0, 0],\n",
              "          [0, 0, 0, ..., 0, 0, 0]],\n",
              "  \n",
              "         [[0, 0, 0, ..., 0, 0, 0],\n",
              "          [0, 0, 0, ..., 0, 0, 0],\n",
              "          [0, 0, 0, ..., 0, 0, 0],\n",
              "          ...,\n",
              "          [0, 0, 0, ..., 0, 0, 0],\n",
              "          [0, 0, 0, ..., 0, 0, 0],\n",
              "          [0, 0, 0, ..., 0, 0, 0]],\n",
              "  \n",
              "         [[0, 0, 0, ..., 0, 0, 0],\n",
              "          [0, 0, 0, ..., 0, 0, 0],\n",
              "          [0, 0, 0, ..., 0, 0, 0],\n",
              "          ...,\n",
              "          [0, 0, 0, ..., 0, 0, 0],\n",
              "          [0, 0, 0, ..., 0, 0, 0],\n",
              "          [0, 0, 0, ..., 0, 0, 0]],\n",
              "  \n",
              "         ...,\n",
              "  \n",
              "         [[0, 0, 0, ..., 0, 0, 0],\n",
              "          [0, 0, 0, ..., 0, 0, 0],\n",
              "          [0, 0, 0, ..., 0, 0, 0],\n",
              "          ...,\n",
              "          [0, 0, 0, ..., 0, 0, 0],\n",
              "          [0, 0, 0, ..., 0, 0, 0],\n",
              "          [0, 0, 0, ..., 0, 0, 0]],\n",
              "  \n",
              "         [[0, 0, 0, ..., 0, 0, 0],\n",
              "          [0, 0, 0, ..., 0, 0, 0],\n",
              "          [0, 0, 0, ..., 0, 0, 0],\n",
              "          ...,\n",
              "          [0, 0, 0, ..., 0, 0, 0],\n",
              "          [0, 0, 0, ..., 0, 0, 0],\n",
              "          [0, 0, 0, ..., 0, 0, 0]],\n",
              "  \n",
              "         [[0, 0, 0, ..., 0, 0, 0],\n",
              "          [0, 0, 0, ..., 0, 0, 0],\n",
              "          [0, 0, 0, ..., 0, 0, 0],\n",
              "          ...,\n",
              "          [0, 0, 0, ..., 0, 0, 0],\n",
              "          [0, 0, 0, ..., 0, 0, 0],\n",
              "          [0, 0, 0, ..., 0, 0, 0]]], dtype=uint8),\n",
              "  array([5, 0, 4, ..., 5, 6, 8], dtype=uint8)),\n",
              " (array([[[0, 0, 0, ..., 0, 0, 0],\n",
              "          [0, 0, 0, ..., 0, 0, 0],\n",
              "          [0, 0, 0, ..., 0, 0, 0],\n",
              "          ...,\n",
              "          [0, 0, 0, ..., 0, 0, 0],\n",
              "          [0, 0, 0, ..., 0, 0, 0],\n",
              "          [0, 0, 0, ..., 0, 0, 0]],\n",
              "  \n",
              "         [[0, 0, 0, ..., 0, 0, 0],\n",
              "          [0, 0, 0, ..., 0, 0, 0],\n",
              "          [0, 0, 0, ..., 0, 0, 0],\n",
              "          ...,\n",
              "          [0, 0, 0, ..., 0, 0, 0],\n",
              "          [0, 0, 0, ..., 0, 0, 0],\n",
              "          [0, 0, 0, ..., 0, 0, 0]],\n",
              "  \n",
              "         [[0, 0, 0, ..., 0, 0, 0],\n",
              "          [0, 0, 0, ..., 0, 0, 0],\n",
              "          [0, 0, 0, ..., 0, 0, 0],\n",
              "          ...,\n",
              "          [0, 0, 0, ..., 0, 0, 0],\n",
              "          [0, 0, 0, ..., 0, 0, 0],\n",
              "          [0, 0, 0, ..., 0, 0, 0]],\n",
              "  \n",
              "         ...,\n",
              "  \n",
              "         [[0, 0, 0, ..., 0, 0, 0],\n",
              "          [0, 0, 0, ..., 0, 0, 0],\n",
              "          [0, 0, 0, ..., 0, 0, 0],\n",
              "          ...,\n",
              "          [0, 0, 0, ..., 0, 0, 0],\n",
              "          [0, 0, 0, ..., 0, 0, 0],\n",
              "          [0, 0, 0, ..., 0, 0, 0]],\n",
              "  \n",
              "         [[0, 0, 0, ..., 0, 0, 0],\n",
              "          [0, 0, 0, ..., 0, 0, 0],\n",
              "          [0, 0, 0, ..., 0, 0, 0],\n",
              "          ...,\n",
              "          [0, 0, 0, ..., 0, 0, 0],\n",
              "          [0, 0, 0, ..., 0, 0, 0],\n",
              "          [0, 0, 0, ..., 0, 0, 0]],\n",
              "  \n",
              "         [[0, 0, 0, ..., 0, 0, 0],\n",
              "          [0, 0, 0, ..., 0, 0, 0],\n",
              "          [0, 0, 0, ..., 0, 0, 0],\n",
              "          ...,\n",
              "          [0, 0, 0, ..., 0, 0, 0],\n",
              "          [0, 0, 0, ..., 0, 0, 0],\n",
              "          [0, 0, 0, ..., 0, 0, 0]]], dtype=uint8),\n",
              "  array([7, 2, 1, ..., 4, 5, 6], dtype=uint8)))"
            ]
          },
          "metadata": {},
          "execution_count": 2
        }
      ]
    },
    {
      "cell_type": "code",
      "metadata": {
        "colab": {
          "base_uri": "https://localhost:8080/"
        },
        "id": "Blrm8rQhXjVF",
        "outputId": "7ee4e297-d546-482d-ea86-dfba9b89b76d"
      },
      "source": [
        "len(mnist.load_data())"
      ],
      "execution_count": 3,
      "outputs": [
        {
          "output_type": "execute_result",
          "data": {
            "text/plain": [
              "2"
            ]
          },
          "metadata": {},
          "execution_count": 3
        }
      ]
    },
    {
      "cell_type": "code",
      "metadata": {
        "id": "VlkvixGjX7bT"
      },
      "source": [
        "(x_train, _), (x_test, _) = mnist.load_data()"
      ],
      "execution_count": 4,
      "outputs": []
    },
    {
      "cell_type": "code",
      "metadata": {
        "colab": {
          "base_uri": "https://localhost:8080/"
        },
        "id": "NLGPQnTeYShY",
        "outputId": "775de7cb-4a0d-4610-acda-cd7c6babeff3"
      },
      "source": [
        "# First value is how many training images we have\n",
        "x_train.shape"
      ],
      "execution_count": 5,
      "outputs": [
        {
          "output_type": "execute_result",
          "data": {
            "text/plain": [
              "(60000, 28, 28)"
            ]
          },
          "metadata": {},
          "execution_count": 5
        }
      ]
    },
    {
      "cell_type": "code",
      "metadata": {
        "colab": {
          "base_uri": "https://localhost:8080/"
        },
        "id": "Dyw66TWdUz0p",
        "outputId": "67c7dd52-5c65-4cd0-ee83-3afd75c522d2"
      },
      "source": [
        "# First value is how many testing images we have\n",
        "x_test.shape"
      ],
      "execution_count": 6,
      "outputs": [
        {
          "output_type": "execute_result",
          "data": {
            "text/plain": [
              "(10000, 28, 28)"
            ]
          },
          "metadata": {},
          "execution_count": 6
        }
      ]
    },
    {
      "cell_type": "code",
      "metadata": {
        "id": "sx_pNfT2YUH3"
      },
      "source": [
        "nimg, img_row, img_col = x_train.shape"
      ],
      "execution_count": 7,
      "outputs": []
    },
    {
      "cell_type": "code",
      "metadata": {
        "colab": {
          "base_uri": "https://localhost:8080/",
          "height": 265
        },
        "id": "outVN6NNYe8x",
        "outputId": "ebb59eec-402a-4faf-e84b-c6267cdc54e2"
      },
      "source": [
        "pl.imshow(x_train[0]);"
      ],
      "execution_count": 8,
      "outputs": [
        {
          "output_type": "display_data",
          "data": {
            "image/png": "[encoded data removed]",
            "text/plain": [
              "<Figure size 432x288 with 1 Axes>"
            ]
          },
          "metadata": {
            "needs_background": "light"
          }
        }
      ]
    },
    {
      "cell_type": "markdown",
      "metadata": {
        "id": "CcIT9-xDTrz-"
      },
      "source": [
        "This is the first of 60000 training images which we will use in our model to predict a digit."
      ]
    },
    {
      "cell_type": "code",
      "metadata": {
        "colab": {
          "base_uri": "https://localhost:8080/"
        },
        "id": "GpRUVQS1YhS-",
        "outputId": "924e1820-9df2-44c5-ffa2-337ccb6a9de7"
      },
      "source": [
        "x_train.max()"
      ],
      "execution_count": 9,
      "outputs": [
        {
          "output_type": "execute_result",
          "data": {
            "text/plain": [
              "255"
            ]
          },
          "metadata": {},
          "execution_count": 9
        }
      ]
    },
    {
      "cell_type": "code",
      "metadata": {
        "colab": {
          "base_uri": "https://localhost:8080/"
        },
        "id": "TSKepOi2ZF9f",
        "outputId": "8932b5d7-ee8d-452d-dc8b-d31cb515a939"
      },
      "source": [
        "x_train.dtype"
      ],
      "execution_count": 10,
      "outputs": [
        {
          "output_type": "execute_result",
          "data": {
            "text/plain": [
              "dtype('uint8')"
            ]
          },
          "metadata": {},
          "execution_count": 10
        }
      ]
    },
    {
      "cell_type": "code",
      "metadata": {
        "id": "GN255XcEZHrz"
      },
      "source": [
        "# Normalize so that image values are now from 0 to 1 instead of 0 to 255\n",
        "\n",
        "# Same normalization for the training and test set\n",
        "x_train = (x_train.astype(float) / 255)\n",
        "\n",
        "# Normalize and reshape x_test also\n",
        "x_test = (x_test.astype(float) / 255)"
      ],
      "execution_count": 11,
      "outputs": []
    },
    {
      "cell_type": "code",
      "metadata": {
        "colab": {
          "base_uri": "https://localhost:8080/"
        },
        "id": "QBacXVUZVQGW",
        "outputId": "d7c3b586-9c72-4547-ffa5-be31311a7b8b"
      },
      "source": [
        "# Make sure normalization worked for training set\n",
        "x_train.min(), x_train.max()"
      ],
      "execution_count": 12,
      "outputs": [
        {
          "output_type": "execute_result",
          "data": {
            "text/plain": [
              "(0.0, 1.0)"
            ]
          },
          "metadata": {},
          "execution_count": 12
        }
      ]
    },
    {
      "cell_type": "code",
      "metadata": {
        "colab": {
          "base_uri": "https://localhost:8080/"
        },
        "id": "W4ZBGHs0VTyN",
        "outputId": "984bcc34-0d92-46b3-b2e7-c27977e8fa0a"
      },
      "source": [
        "# Make sure normalization is the same for the testing set\n",
        "x_test.min(), x_test.max()"
      ],
      "execution_count": 13,
      "outputs": [
        {
          "output_type": "execute_result",
          "data": {
            "text/plain": [
              "(0.0, 1.0)"
            ]
          },
          "metadata": {},
          "execution_count": 13
        }
      ]
    },
    {
      "cell_type": "code",
      "metadata": {
        "colab": {
          "base_uri": "https://localhost:8080/"
        },
        "id": "8HvuO3qTZb5p",
        "outputId": "6f60ea5c-2f87-4ca9-85ce-f875c455ee7d"
      },
      "source": [
        "x_train.reshape(nimg, img_row*img_col).shape"
      ],
      "execution_count": 14,
      "outputs": [
        {
          "output_type": "execute_result",
          "data": {
            "text/plain": [
              "(60000, 784)"
            ]
          },
          "metadata": {},
          "execution_count": 14
        }
      ]
    },
    {
      "cell_type": "code",
      "metadata": {
        "id": "RXt9PSoGecbX",
        "colab": {
          "base_uri": "https://localhost:8080/"
        },
        "outputId": "fca45502-e720-4fbb-caf0-90339fbc3a52"
      },
      "source": [
        "# Reshape training set so that it is one-dimensional for a single image\n",
        "# (can now be input into our model)\n",
        "\n",
        "x_train = x_train.reshape(nimg, img_row*img_col)\n",
        "x_train.shape"
      ],
      "execution_count": 15,
      "outputs": [
        {
          "output_type": "execute_result",
          "data": {
            "text/plain": [
              "(60000, 784)"
            ]
          },
          "metadata": {},
          "execution_count": 15
        }
      ]
    },
    {
      "cell_type": "code",
      "metadata": {
        "colab": {
          "base_uri": "https://localhost:8080/"
        },
        "id": "QDC_YlbGUuYn",
        "outputId": "d4fe4fda-6b6d-47ae-f621-00b9dd263446"
      },
      "source": [
        "x_test.shape"
      ],
      "execution_count": 16,
      "outputs": [
        {
          "output_type": "execute_result",
          "data": {
            "text/plain": [
              "(10000, 28, 28)"
            ]
          },
          "metadata": {},
          "execution_count": 16
        }
      ]
    },
    {
      "cell_type": "code",
      "metadata": {
        "id": "NxxChGG_efvt"
      },
      "source": [
        "# Also reshape testing set so it is one-dimensional for a single image\n",
        "x_test = x_test.reshape(x_test.shape[0], img_row*img_col)"
      ],
      "execution_count": 17,
      "outputs": []
    },
    {
      "cell_type": "code",
      "metadata": {
        "id": "TEh7feqZZk0H"
      },
      "source": [
        "# The y_train data must be a copy of our x_train data\n",
        "# This is because our model is an encoder\n",
        "# (encoder = transform data to a lower dimensional representation)\n",
        "y_train = x_train.copy()"
      ],
      "execution_count": 18,
      "outputs": []
    },
    {
      "cell_type": "code",
      "metadata": {
        "id": "hpz9XSZcbn56"
      },
      "source": [
        "# Creates model\n",
        "model_digits = Sequential()"
      ],
      "execution_count": 19,
      "outputs": []
    },
    {
      "cell_type": "code",
      "metadata": {
        "id": "K1YdQHdmcTU_"
      },
      "source": [
        "# Add model layers\n",
        "# Here we encode 28^2 = 784 dimensions down to 64 dimensions then de-encode\n",
        "\n",
        "# Encoding...\n",
        "#model_digits.add(Dense(256, activation=\"relu\", input_dim=img_row*img_col))\n",
        "model_digits.add(Dense(128, activation=\"relu\", input_dim=img_row*img_col))\n",
        "model_digits.add(Dense(64, activation=\"relu\"))\n",
        "\n",
        "# De-encoding... (last activation must be linear)\n",
        "model_digits.add(Dense(128, activation=\"relu\"))\n",
        "#model_digits.add(Dense(img_row*img_col, activation=\"linear\"))\n",
        "# Do activation=\"sigmoid\" for better results\n",
        "model_digits.add(Dense(img_row*img_col, activation=\"sigmoid\"))"
      ],
      "execution_count": 20,
      "outputs": []
    },
    {
      "cell_type": "code",
      "metadata": {
        "id": "ZPhicGZRdSxg"
      },
      "source": [
        "# Choose optimizer and loss function\n",
        "# Can change these to try getting better results for our FFNN\n",
        "# From slides, best combo looks like opt=adadelta and loss=binary_crossentropy\n",
        "# where activation function must be \"sigmoid\" instead of \"relu\"\n",
        "\n",
        "model_digits.compile(optimizer=\"adadelta\", loss=\"mean_squared_error\")"
      ],
      "execution_count": 21,
      "outputs": []
    },
    {
      "cell_type": "code",
      "metadata": {
        "colab": {
          "base_uri": "https://localhost:8080/"
        },
        "id": "t6qFENUMdmb4",
        "outputId": "4fd59c29-3f1b-4836-98d8-290c9d9072d2"
      },
      "source": [
        "model_digits.summary()"
      ],
      "execution_count": 22,
      "outputs": [
        {
          "output_type": "stream",
          "name": "stdout",
          "text": [
            "Model: \"sequential\"\n",
            "_________________________________________________________________\n",
            " Layer (type)                Output Shape              Param #   \n",
            "=================================================================\n",
            " dense (Dense)               (None, 128)               100480    \n",
            "                                                                 \n",
            " dense_1 (Dense)             (None, 64)                8256      \n",
            "                                                                 \n",
            " dense_2 (Dense)             (None, 128)               8320      \n",
            "                                                                 \n",
            " dense_3 (Dense)             (None, 784)               101136    \n",
            "                                                                 \n",
            "=================================================================\n",
            "Total params: 218,192\n",
            "Trainable params: 218,192\n",
            "Non-trainable params: 0\n",
            "_________________________________________________________________\n"
          ]
        }
      ]
    },
    {
      "cell_type": "code",
      "metadata": {
        "colab": {
          "base_uri": "https://localhost:8080/"
        },
        "id": "fYCzpCkadqg0",
        "outputId": "06338a37-b33a-4a95-c32d-eef187a99364"
      },
      "source": [
        "# Architecture is x_train x_train instead of x_train y_train bc it's an encoder\n",
        "ffnn_digit=model_digits.fit(x_train, x_train, validation_data=(x_test, x_test),\n",
        "                            epochs=20, batch_size=100, verbose=1)"
      ],
      "execution_count": 23,
      "outputs": [
        {
          "output_type": "stream",
          "name": "stdout",
          "text": [
            "Epoch 1/20\n",
            "600/600 [==============================] - 4s 4ms/step - loss: 0.2311 - val_loss: 0.2312\n",
            "Epoch 2/20\n",
            "600/600 [==============================] - 2s 3ms/step - loss: 0.2310 - val_loss: 0.2311\n",
            "Epoch 3/20\n",
            "600/600 [==============================] - 2s 4ms/step - loss: 0.2310 - val_loss: 0.2310\n",
            "Epoch 4/20\n",
            "600/600 [==============================] - 2s 3ms/step - loss: 0.2309 - val_loss: 0.2310\n",
            "Epoch 5/20\n",
            "600/600 [==============================] - 2s 3ms/step - loss: 0.2308 - val_loss: 0.2309\n",
            "Epoch 6/20\n",
            "600/600 [==============================] - 2s 3ms/step - loss: 0.2307 - val_loss: 0.2308\n",
            "Epoch 7/20\n",
            "600/600 [==============================] - 2s 3ms/step - loss: 0.2307 - val_loss: 0.2307\n",
            "Epoch 8/20\n",
            "600/600 [==============================] - 2s 4ms/step - loss: 0.2306 - val_loss: 0.2306\n",
            "Epoch 9/20\n",
            "600/600 [==============================] - 2s 3ms/step - loss: 0.2305 - val_loss: 0.2306\n",
            "Epoch 10/20\n",
            "600/600 [==============================] - 2s 3ms/step - loss: 0.2304 - val_loss: 0.2305\n",
            "Epoch 11/20\n",
            "600/600 [==============================] - 2s 3ms/step - loss: 0.2303 - val_loss: 0.2304\n",
            "Epoch 12/20\n",
            "600/600 [==============================] - 2s 4ms/step - loss: 0.2303 - val_loss: 0.2303\n",
            "Epoch 13/20\n",
            "600/600 [==============================] - 2s 4ms/step - loss: 0.2302 - val_loss: 0.2302\n",
            "Epoch 14/20\n",
            "600/600 [==============================] - 2s 4ms/step - loss: 0.2301 - val_loss: 0.2301\n",
            "Epoch 15/20\n",
            "600/600 [==============================] - 2s 4ms/step - loss: 0.2300 - val_loss: 0.2301\n",
            "Epoch 16/20\n",
            "600/600 [==============================] - 2s 4ms/step - loss: 0.2299 - val_loss: 0.2300\n",
            "Epoch 17/20\n",
            "600/600 [==============================] - 2s 4ms/step - loss: 0.2298 - val_loss: 0.2299\n",
            "Epoch 18/20\n",
            "600/600 [==============================] - 2s 4ms/step - loss: 0.2298 - val_loss: 0.2298\n",
            "Epoch 19/20\n",
            "600/600 [==============================] - 2s 4ms/step - loss: 0.2297 - val_loss: 0.2297\n",
            "Epoch 20/20\n",
            "600/600 [==============================] - 2s 4ms/step - loss: 0.2296 - val_loss: 0.2296\n"
          ]
        }
      ]
    },
    {
      "cell_type": "code",
      "metadata": {
        "colab": {
          "base_uri": "https://localhost:8080/"
        },
        "id": "482foTozfFjN",
        "outputId": "3876cd7f-6ba1-41a9-ca27-aaa7b86ffdec"
      },
      "source": [
        "ffnn_digit.history"
      ],
      "execution_count": 24,
      "outputs": [
        {
          "output_type": "execute_result",
          "data": {
            "text/plain": [
              "{'loss': [0.23112545907497406,\n",
              "  0.23104768991470337,\n",
              "  0.23096996545791626,\n",
              "  0.230892151594162,\n",
              "  0.2308141440153122,\n",
              "  0.2307359278202057,\n",
              "  0.23065733909606934,\n",
              "  0.23057866096496582,\n",
              "  0.2304992824792862,\n",
              "  0.2304195910692215,\n",
              "  0.23033937811851501,\n",
              "  0.2302585244178772,\n",
              "  0.23017717897891998,\n",
              "  0.23009493947029114,\n",
              "  0.23001201450824738,\n",
              "  0.22992795705795288,\n",
              "  0.22984322905540466,\n",
              "  0.22975748777389526,\n",
              "  0.22967074811458588,\n",
              "  0.22958257794380188],\n",
              " 'val_loss': [0.23119042813777924,\n",
              "  0.2311120629310608,\n",
              "  0.2310335636138916,\n",
              "  0.23095503449440002,\n",
              "  0.23087619245052338,\n",
              "  0.23079726099967957,\n",
              "  0.23071786761283875,\n",
              "  0.23063820600509644,\n",
              "  0.2305581271648407,\n",
              "  0.2304774969816208,\n",
              "  0.23039627075195312,\n",
              "  0.2303144782781601,\n",
              "  0.23023203015327454,\n",
              "  0.23014870285987854,\n",
              "  0.23006455600261688,\n",
              "  0.22997942566871643,\n",
              "  0.22989347577095032,\n",
              "  0.22980622947216034,\n",
              "  0.22971796989440918,\n",
              "  0.22962839901447296]}"
            ]
          },
          "metadata": {},
          "execution_count": 24
        }
      ]
    },
    {
      "cell_type": "code",
      "metadata": {
        "id": "z4YcVft8fS24"
      },
      "source": [
        "out_loss = ffnn_digit.history['loss']\n",
        "out_val_loss = ffnn_digit.history['val_loss']"
      ],
      "execution_count": 25,
      "outputs": []
    },
    {
      "cell_type": "code",
      "metadata": {
        "colab": {
          "base_uri": "https://localhost:8080/"
        },
        "id": "ObDVC5DLf-Fp",
        "outputId": "aba158de-51c5-4682-9e97-70bd21e139c6"
      },
      "source": [
        "len(out_loss), len(out_val_loss)"
      ],
      "execution_count": 26,
      "outputs": [
        {
          "output_type": "execute_result",
          "data": {
            "text/plain": [
              "(20, 20)"
            ]
          },
          "metadata": {},
          "execution_count": 26
        }
      ]
    },
    {
      "cell_type": "code",
      "metadata": {
        "id": "GxQ-tvwpgKi9"
      },
      "source": [
        "epoch_num = np.linspace(1, len(out_loss), len(out_loss), endpoint=True)"
      ],
      "execution_count": 27,
      "outputs": []
    },
    {
      "cell_type": "code",
      "metadata": {
        "colab": {
          "base_uri": "https://localhost:8080/"
        },
        "id": "B4Ju7jlcgl1o",
        "outputId": "75227908-141e-464d-9458-5ec80631b631"
      },
      "source": [
        "# Make sure epoch number is defined correctly\n",
        "epoch_num"
      ],
      "execution_count": 28,
      "outputs": [
        {
          "output_type": "execute_result",
          "data": {
            "text/plain": [
              "array([ 1.,  2.,  3.,  4.,  5.,  6.,  7.,  8.,  9., 10., 11., 12., 13.,\n",
              "       14., 15., 16., 17., 18., 19., 20.])"
            ]
          },
          "metadata": {},
          "execution_count": 28
        }
      ]
    },
    {
      "cell_type": "code",
      "metadata": {
        "id": "lgmyW9gHgsAH"
      },
      "source": [
        "out_loss = np.array(out_loss)\n",
        "out_val_loss = np.array(out_val_loss)"
      ],
      "execution_count": 29,
      "outputs": []
    },
    {
      "cell_type": "code",
      "metadata": {
        "colab": {
          "base_uri": "https://localhost:8080/"
        },
        "id": "amvBzKRugzHg",
        "outputId": "935cacb4-9979-4ba7-b17b-048789cf98ff"
      },
      "source": [
        "out_loss, out_val_loss"
      ],
      "execution_count": 30,
      "outputs": [
        {
          "output_type": "execute_result",
          "data": {
            "text/plain": [
              "(array([0.23112546, 0.23104769, 0.23096997, 0.23089215, 0.23081414,\n",
              "        0.23073593, 0.23065734, 0.23057866, 0.23049928, 0.23041959,\n",
              "        0.23033938, 0.23025852, 0.23017718, 0.23009494, 0.23001201,\n",
              "        0.22992796, 0.22984323, 0.22975749, 0.22967075, 0.22958258]),\n",
              " array([0.23119043, 0.23111206, 0.23103356, 0.23095503, 0.23087619,\n",
              "        0.23079726, 0.23071787, 0.23063821, 0.23055813, 0.2304775 ,\n",
              "        0.23039627, 0.23031448, 0.23023203, 0.2301487 , 0.23006456,\n",
              "        0.22997943, 0.22989348, 0.22980623, 0.22971797, 0.2296284 ]))"
            ]
          },
          "metadata": {},
          "execution_count": 30
        }
      ]
    },
    {
      "cell_type": "code",
      "metadata": {
        "colab": {
          "base_uri": "https://localhost:8080/",
          "height": 614
        },
        "id": "Y_oHqo5bhAFm",
        "outputId": "0912c593-7a79-4942-c2b0-ba2a964d263f"
      },
      "source": [
        "plt.figure(figsize=(10, 10))\n",
        "\n",
        "plt.plot(epoch_num, out_loss, color='red', linestyle='solid',\n",
        "         label='train loss')\n",
        "plt.plot(epoch_num, out_val_loss, color='blue', linestyle='solid',\n",
        "         label='val loss')\n",
        "\n",
        "plt.xlabel('epoch', fontsize=18)\n",
        "plt.ylabel('loss', fontsize=18)\n",
        "plt.legend(loc='best', fontsize=18)\n",
        "plt.show()"
      ],
      "execution_count": 31,
      "outputs": [
        {
          "output_type": "display_data",
          "data": {
            "image/png": "[encoded data removed]",
            "text/plain": [
              "<Figure size 720x720 with 1 Axes>"
            ]
          },
          "metadata": {
            "needs_background": "light"
          }
        }
      ]
    },
    {
      "cell_type": "markdown",
      "metadata": {
        "id": "_e97pOlS-5Ue"
      },
      "source": [
        "# Need to train a lot more, try epoch=100"
      ]
    },
    {
      "cell_type": "code",
      "metadata": {
        "id": "lMMgsOf8iKee",
        "colab": {
          "base_uri": "https://localhost:8080/"
        },
        "outputId": "598cde74-70d7-444b-9b50-d8d7d5dcd0ce"
      },
      "source": [
        "# Architecture is x_train x_train instead of x_train y_train bc it's an encoder\n",
        "ffnn_digit100=model_digits.fit(x_train, x_train, validation_data=(x_test, x_test),\n",
        "                            epochs=100, batch_size=100, verbose=1)"
      ],
      "execution_count": 32,
      "outputs": [
        {
          "output_type": "stream",
          "name": "stdout",
          "text": [
            "Epoch 1/100\n",
            "600/600 [==============================] - 2s 4ms/step - loss: 0.2295 - val_loss: 0.2295\n",
            "Epoch 2/100\n",
            "600/600 [==============================] - 2s 4ms/step - loss: 0.2294 - val_loss: 0.2294\n",
            "Epoch 3/100\n",
            "600/600 [==============================] - 2s 4ms/step - loss: 0.2293 - val_loss: 0.2294\n",
            "Epoch 4/100\n",
            "600/600 [==============================] - 2s 4ms/step - loss: 0.2292 - val_loss: 0.2293\n",
            "Epoch 5/100\n",
            "600/600 [==============================] - 2s 4ms/step - loss: 0.2291 - val_loss: 0.2292\n",
            "Epoch 6/100\n",
            "600/600 [==============================] - 2s 4ms/step - loss: 0.2290 - val_loss: 0.2291\n",
            "Epoch 7/100\n",
            "600/600 [==============================] - 2s 4ms/step - loss: 0.2289 - val_loss: 0.2290\n",
            "Epoch 8/100\n",
            "600/600 [==============================] - 2s 4ms/step - loss: 0.2288 - val_loss: 0.2289\n",
            "Epoch 9/100\n",
            "600/600 [==============================] - 2s 4ms/step - loss: 0.2287 - val_loss: 0.2287\n",
            "Epoch 10/100\n",
            "600/600 [==============================] - 2s 4ms/step - loss: 0.2286 - val_loss: 0.2286\n",
            "Epoch 11/100\n",
            "600/600 [==============================] - 2s 3ms/step - loss: 0.2285 - val_loss: 0.2285\n",
            "Epoch 12/100\n",
            "600/600 [==============================] - 2s 3ms/step - loss: 0.2284 - val_loss: 0.2284\n",
            "Epoch 13/100\n",
            "600/600 [==============================] - 2s 4ms/step - loss: 0.2283 - val_loss: 0.2283\n",
            "Epoch 14/100\n",
            "600/600 [==============================] - 2s 4ms/step - loss: 0.2282 - val_loss: 0.2282\n",
            "Epoch 15/100\n",
            "600/600 [==============================] - 2s 4ms/step - loss: 0.2280 - val_loss: 0.2281\n",
            "Epoch 16/100\n",
            "600/600 [==============================] - 2s 4ms/step - loss: 0.2279 - val_loss: 0.2279\n",
            "Epoch 17/100\n",
            "600/600 [==============================] - 2s 4ms/step - loss: 0.2278 - val_loss: 0.2278\n",
            "Epoch 18/100\n",
            "600/600 [==============================] - 2s 4ms/step - loss: 0.2277 - val_loss: 0.2277\n",
            "Epoch 19/100\n",
            "600/600 [==============================] - 2s 4ms/step - loss: 0.2275 - val_loss: 0.2275\n",
            "Epoch 20/100\n",
            "600/600 [==============================] - 2s 4ms/step - loss: 0.2274 - val_loss: 0.2274\n",
            "Epoch 21/100\n",
            "600/600 [==============================] - 2s 3ms/step - loss: 0.2273 - val_loss: 0.2272\n",
            "Epoch 22/100\n",
            "600/600 [==============================] - 2s 3ms/step - loss: 0.2271 - val_loss: 0.2271\n",
            "Epoch 23/100\n",
            "600/600 [==============================] - 2s 4ms/step - loss: 0.2269 - val_loss: 0.2269\n",
            "Epoch 24/100\n",
            "600/600 [==============================] - 2s 3ms/step - loss: 0.2268 - val_loss: 0.2268\n",
            "Epoch 25/100\n",
            "600/600 [==============================] - 2s 4ms/step - loss: 0.2266 - val_loss: 0.2266\n",
            "Epoch 26/100\n",
            "600/600 [==============================] - 2s 4ms/step - loss: 0.2265 - val_loss: 0.2264\n",
            "Epoch 27/100\n",
            "600/600 [==============================] - 2s 3ms/step - loss: 0.2263 - val_loss: 0.2262\n",
            "Epoch 28/100\n",
            "600/600 [==============================] - 2s 4ms/step - loss: 0.2261 - val_loss: 0.2260\n",
            "Epoch 29/100\n",
            "600/600 [==============================] - 2s 3ms/step - loss: 0.2259 - val_loss: 0.2258\n",
            "Epoch 30/100\n",
            "600/600 [==============================] - 2s 3ms/step - loss: 0.2257 - val_loss: 0.2256\n",
            "Epoch 31/100\n",
            "600/600 [==============================] - 2s 4ms/step - loss: 0.2255 - val_loss: 0.2254\n",
            "Epoch 32/100\n",
            "600/600 [==============================] - 2s 4ms/step - loss: 0.2253 - val_loss: 0.2252\n",
            "Epoch 33/100\n",
            "600/600 [==============================] - 2s 4ms/step - loss: 0.2250 - val_loss: 0.2250\n",
            "Epoch 34/100\n",
            "600/600 [==============================] - 2s 4ms/step - loss: 0.2248 - val_loss: 0.2247\n",
            "Epoch 35/100\n",
            "600/600 [==============================] - 2s 4ms/step - loss: 0.2245 - val_loss: 0.2244\n",
            "Epoch 36/100\n",
            "600/600 [==============================] - 2s 4ms/step - loss: 0.2243 - val_loss: 0.2242\n",
            "Epoch 37/100\n",
            "600/600 [==============================] - 2s 4ms/step - loss: 0.2240 - val_loss: 0.2239\n",
            "Epoch 38/100\n",
            "600/600 [==============================] - 2s 4ms/step - loss: 0.2237 - val_loss: 0.2236\n",
            "Epoch 39/100\n",
            "600/600 [==============================] - 2s 4ms/step - loss: 0.2234 - val_loss: 0.2233\n",
            "Epoch 40/100\n",
            "600/600 [==============================] - 2s 4ms/step - loss: 0.2231 - val_loss: 0.2229\n",
            "Epoch 41/100\n",
            "600/600 [==============================] - 2s 4ms/step - loss: 0.2227 - val_loss: 0.2226\n",
            "Epoch 42/100\n",
            "600/600 [==============================] - 2s 4ms/step - loss: 0.2224 - val_loss: 0.2222\n",
            "Epoch 43/100\n",
            "600/600 [==============================] - 2s 4ms/step - loss: 0.2220 - val_loss: 0.2218\n",
            "Epoch 44/100\n",
            "600/600 [==============================] - 2s 4ms/step - loss: 0.2216 - val_loss: 0.2214\n",
            "Epoch 45/100\n",
            "600/600 [==============================] - 2s 4ms/step - loss: 0.2212 - val_loss: 0.2210\n",
            "Epoch 46/100\n",
            "600/600 [==============================] - 2s 3ms/step - loss: 0.2207 - val_loss: 0.2205\n",
            "Epoch 47/100\n",
            "600/600 [==============================] - 2s 4ms/step - loss: 0.2203 - val_loss: 0.2200\n",
            "Epoch 48/100\n",
            "600/600 [==============================] - 2s 4ms/step - loss: 0.2198 - val_loss: 0.2195\n",
            "Epoch 49/100\n",
            "600/600 [==============================] - 2s 4ms/step - loss: 0.2192 - val_loss: 0.2189\n",
            "Epoch 50/100\n",
            "600/600 [==============================] - 2s 4ms/step - loss: 0.2187 - val_loss: 0.2183\n",
            "Epoch 51/100\n",
            "600/600 [==============================] - 2s 4ms/step - loss: 0.2181 - val_loss: 0.2177\n",
            "Epoch 52/100\n",
            "600/600 [==============================] - 2s 4ms/step - loss: 0.2174 - val_loss: 0.2170\n",
            "Epoch 53/100\n",
            "600/600 [==============================] - 2s 4ms/step - loss: 0.2168 - val_loss: 0.2163\n",
            "Epoch 54/100\n",
            "600/600 [==============================] - 2s 4ms/step - loss: 0.2160 - val_loss: 0.2156\n",
            "Epoch 55/100\n",
            "600/600 [==============================] - 2s 4ms/step - loss: 0.2153 - val_loss: 0.2147\n",
            "Epoch 56/100\n",
            "600/600 [==============================] - 2s 4ms/step - loss: 0.2144 - val_loss: 0.2139\n",
            "Epoch 57/100\n",
            "600/600 [==============================] - 2s 4ms/step - loss: 0.2136 - val_loss: 0.2130\n",
            "Epoch 58/100\n",
            "600/600 [==============================] - 2s 4ms/step - loss: 0.2126 - val_loss: 0.2120\n",
            "Epoch 59/100\n",
            "600/600 [==============================] - 2s 3ms/step - loss: 0.2116 - val_loss: 0.2109\n",
            "Epoch 60/100\n",
            "600/600 [==============================] - 2s 3ms/step - loss: 0.2106 - val_loss: 0.2098\n",
            "Epoch 61/100\n",
            "600/600 [==============================] - 2s 4ms/step - loss: 0.2094 - val_loss: 0.2086\n",
            "Epoch 62/100\n",
            "600/600 [==============================] - 2s 4ms/step - loss: 0.2082 - val_loss: 0.2074\n",
            "Epoch 63/100\n",
            "600/600 [==============================] - 2s 4ms/step - loss: 0.2069 - val_loss: 0.2060\n",
            "Epoch 64/100\n",
            "600/600 [==============================] - 2s 4ms/step - loss: 0.2055 - val_loss: 0.2045\n",
            "Epoch 65/100\n",
            "600/600 [==============================] - 2s 4ms/step - loss: 0.2040 - val_loss: 0.2030\n",
            "Epoch 66/100\n",
            "600/600 [==============================] - 2s 3ms/step - loss: 0.2024 - val_loss: 0.2013\n",
            "Epoch 67/100\n",
            "600/600 [==============================] - 2s 4ms/step - loss: 0.2007 - val_loss: 0.1996\n",
            "Epoch 68/100\n",
            "600/600 [==============================] - 2s 4ms/step - loss: 0.1989 - val_loss: 0.1977\n",
            "Epoch 69/100\n",
            "600/600 [==============================] - 2s 4ms/step - loss: 0.1970 - val_loss: 0.1957\n",
            "Epoch 70/100\n",
            "600/600 [==============================] - 2s 3ms/step - loss: 0.1950 - val_loss: 0.1936\n",
            "Epoch 71/100\n",
            "600/600 [==============================] - 2s 4ms/step - loss: 0.1928 - val_loss: 0.1913\n",
            "Epoch 72/100\n",
            "600/600 [==============================] - 2s 4ms/step - loss: 0.1905 - val_loss: 0.1889\n",
            "Epoch 73/100\n",
            "600/600 [==============================] - 2s 4ms/step - loss: 0.1880 - val_loss: 0.1864\n",
            "Epoch 74/100\n",
            "600/600 [==============================] - 2s 4ms/step - loss: 0.1855 - val_loss: 0.1837\n",
            "Epoch 75/100\n",
            "600/600 [==============================] - 2s 4ms/step - loss: 0.1827 - val_loss: 0.1809\n",
            "Epoch 76/100\n",
            "600/600 [==============================] - 2s 4ms/step - loss: 0.1799 - val_loss: 0.1779\n",
            "Epoch 77/100\n",
            "600/600 [==============================] - 2s 4ms/step - loss: 0.1769 - val_loss: 0.1748\n",
            "Epoch 78/100\n",
            "600/600 [==============================] - 2s 3ms/step - loss: 0.1737 - val_loss: 0.1716\n",
            "Epoch 79/100\n",
            "600/600 [==============================] - 2s 4ms/step - loss: 0.1704 - val_loss: 0.1682\n",
            "Epoch 80/100\n",
            "600/600 [==============================] - 2s 4ms/step - loss: 0.1670 - val_loss: 0.1647\n",
            "Epoch 81/100\n",
            "600/600 [==============================] - 2s 4ms/step - loss: 0.1635 - val_loss: 0.1611\n",
            "Epoch 82/100\n",
            "600/600 [==============================] - 2s 4ms/step - loss: 0.1599 - val_loss: 0.1575\n",
            "Epoch 83/100\n",
            "600/600 [==============================] - 2s 4ms/step - loss: 0.1562 - val_loss: 0.1537\n",
            "Epoch 84/100\n",
            "600/600 [==============================] - 2s 4ms/step - loss: 0.1524 - val_loss: 0.1499\n",
            "Epoch 85/100\n",
            "600/600 [==============================] - 2s 4ms/step - loss: 0.1486 - val_loss: 0.1461\n",
            "Epoch 86/100\n",
            "600/600 [==============================] - 2s 4ms/step - loss: 0.1448 - val_loss: 0.1422\n",
            "Epoch 87/100\n",
            "600/600 [==============================] - 2s 4ms/step - loss: 0.1409 - val_loss: 0.1383\n",
            "Epoch 88/100\n",
            "600/600 [==============================] - 2s 4ms/step - loss: 0.1371 - val_loss: 0.1345\n",
            "Epoch 89/100\n",
            "600/600 [==============================] - 2s 4ms/step - loss: 0.1333 - val_loss: 0.1308\n",
            "Epoch 90/100\n",
            "600/600 [==============================] - 2s 4ms/step - loss: 0.1296 - val_loss: 0.1271\n",
            "Epoch 91/100\n",
            "600/600 [==============================] - 2s 4ms/step - loss: 0.1259 - val_loss: 0.1235\n",
            "Epoch 92/100\n",
            "600/600 [==============================] - 2s 4ms/step - loss: 0.1224 - val_loss: 0.1200\n",
            "Epoch 93/100\n",
            "600/600 [==============================] - 2s 4ms/step - loss: 0.1190 - val_loss: 0.1167\n",
            "Epoch 94/100\n",
            "600/600 [==============================] - 2s 4ms/step - loss: 0.1157 - val_loss: 0.1135\n",
            "Epoch 95/100\n",
            "600/600 [==============================] - 2s 4ms/step - loss: 0.1126 - val_loss: 0.1105\n",
            "Epoch 96/100\n",
            "600/600 [==============================] - 2s 4ms/step - loss: 0.1096 - val_loss: 0.1077\n",
            "Epoch 97/100\n",
            "600/600 [==============================] - 2s 4ms/step - loss: 0.1068 - val_loss: 0.1050\n",
            "Epoch 98/100\n",
            "600/600 [==============================] - 2s 4ms/step - loss: 0.1042 - val_loss: 0.1025\n",
            "Epoch 99/100\n",
            "600/600 [==============================] - 2s 4ms/step - loss: 0.1018 - val_loss: 0.1001\n",
            "Epoch 100/100\n",
            "600/600 [==============================] - 2s 3ms/step - loss: 0.0995 - val_loss: 0.0979\n"
          ]
        }
      ]
    },
    {
      "cell_type": "code",
      "metadata": {
        "id": "bMTVLJIO_Lw6"
      },
      "source": [
        "out_loss = ffnn_digit100.history['loss']\n",
        "out_val_loss = ffnn_digit100.history['val_loss']"
      ],
      "execution_count": 33,
      "outputs": []
    },
    {
      "cell_type": "code",
      "metadata": {
        "colab": {
          "base_uri": "https://localhost:8080/"
        },
        "id": "ceAzQNfP_Qfq",
        "outputId": "a3e49efc-107d-4db3-bc6d-62c312d7cada"
      },
      "source": [
        "len(out_loss), len(out_val_loss)"
      ],
      "execution_count": 34,
      "outputs": [
        {
          "output_type": "execute_result",
          "data": {
            "text/plain": [
              "(100, 100)"
            ]
          },
          "metadata": {},
          "execution_count": 34
        }
      ]
    },
    {
      "cell_type": "code",
      "metadata": {
        "id": "qqOIoWFbA2Yq"
      },
      "source": [
        "epoch_num = np.linspace(1, len(out_loss), len(out_loss), endpoint=True)"
      ],
      "execution_count": 36,
      "outputs": []
    },
    {
      "cell_type": "code",
      "metadata": {
        "colab": {
          "base_uri": "https://localhost:8080/",
          "height": 614
        },
        "id": "YLou10Nt_VTh",
        "outputId": "3642e931-efcf-4243-fdcd-4c4ac82d6498"
      },
      "source": [
        "plt.figure(figsize=(10, 10))\n",
        "\n",
        "plt.plot(epoch_num, out_loss, color='red', linestyle='solid',\n",
        "         label='train loss')\n",
        "plt.plot(epoch_num, out_val_loss, color='blue', linestyle='solid',\n",
        "         label='val loss')\n",
        "\n",
        "plt.xlabel('epoch', fontsize=18)\n",
        "plt.ylabel('loss', fontsize=18)\n",
        "plt.legend(loc='best', fontsize=18)\n",
        "plt.show()"
      ],
      "execution_count": 37,
      "outputs": [
        {
          "output_type": "display_data",
          "data": {
            "image/png": "[encoded data removed]",
            "text/plain": [
              "<Figure size 720x720 with 1 Axes>"
            ]
          },
          "metadata": {
            "needs_background": "light"
          }
        }
      ]
    },
    {
      "cell_type": "markdown",
      "metadata": {
        "id": "fmbdzHbmBI7h"
      },
      "source": [
        "# Still need more training! (b/c algorithm is still learning), try epoch=200. Also try making learning rate more precise."
      ]
    },
    {
      "cell_type": "code",
      "metadata": {
        "colab": {
          "base_uri": "https://localhost:8080/",
          "height": 165
        },
        "id": "K3r7zxFLEsXn",
        "outputId": "ee66c14a-bfcd-4e8b-97ec-6d4712a16027"
      },
      "source": [
        "opt = keras.optimizers.Adam(learning_rate=0.01)"
      ],
      "execution_count": 57,
      "outputs": [
        {
          "output_type": "error",
          "ename": "AttributeError",
          "evalue": "ignored",
          "traceback": [
            "\u001b[0;31m---------------------------------------------------------------------------\u001b[0m",
            "\u001b[0;31mAttributeError\u001b[0m                            Traceback (most recent call last)",
            "\u001b[0;32m<ipython-input-57-7f831a7a153b>\u001b[0m in \u001b[0;36m<module>\u001b[0;34m()\u001b[0m\n\u001b[0;32m----> 1\u001b[0;31m \u001b[0mopt\u001b[0m \u001b[0;34m=\u001b[0m \u001b[0mkeras\u001b[0m\u001b[0;34m.\u001b[0m\u001b[0moptimizers\u001b[0m\u001b[0;34m.\u001b[0m\u001b[0mAdam\u001b[0m\u001b[0;34m(\u001b[0m\u001b[0mlearning_rate\u001b[0m\u001b[0;34m=\u001b[0m\u001b[0;36m0.01\u001b[0m\u001b[0;34m)\u001b[0m\u001b[0;34m\u001b[0m\u001b[0;34m\u001b[0m\u001b[0m\n\u001b[0m",
            "\u001b[0;31mAttributeError\u001b[0m: module 'keras.optimizers' has no attribute 'Adam'"
          ]
        }
      ]
    },
    {
      "cell_type": "markdown",
      "metadata": {
        "id": "ulaLLRgdE2Pb"
      },
      "source": [
        "#Rerun everything once I figure out Adam error."
      ]
    },
    {
      "cell_type": "code",
      "metadata": {
        "colab": {
          "base_uri": "https://localhost:8080/"
        },
        "id": "7on-gLu7BDkO",
        "outputId": "7ff32fd1-6c30-4aee-a082-dc346ce38410"
      },
      "source": [
        "# Architecture is x_train x_train instead of x_train y_train bc it's an encoder\n",
        "ffnn_digit200=model_digits.fit(x_train, x_train, validation_data=(x_test, x_test),\n",
        "                            epochs=200, batch_size=100, verbose=1)"
      ],
      "execution_count": 38,
      "outputs": [
        {
          "output_type": "stream",
          "name": "stdout",
          "text": [
            "Epoch 1/200\n",
            "600/600 [==============================] - 2s 4ms/step - loss: 0.0974 - val_loss: 0.0959\n",
            "Epoch 2/200\n",
            "600/600 [==============================] - 2s 3ms/step - loss: 0.0954 - val_loss: 0.0941\n",
            "Epoch 3/200\n",
            "600/600 [==============================] - 2s 3ms/step - loss: 0.0936 - val_loss: 0.0924\n",
            "Epoch 4/200\n",
            "600/600 [==============================] - 2s 4ms/step - loss: 0.0919 - val_loss: 0.0908\n",
            "Epoch 5/200\n",
            "600/600 [==============================] - 2s 3ms/step - loss: 0.0904 - val_loss: 0.0893\n",
            "Epoch 6/200\n",
            "600/600 [==============================] - 2s 4ms/step - loss: 0.0890 - val_loss: 0.0880\n",
            "Epoch 7/200\n",
            "600/600 [==============================] - 2s 4ms/step - loss: 0.0877 - val_loss: 0.0868\n",
            "Epoch 8/200\n",
            "600/600 [==============================] - 2s 3ms/step - loss: 0.0865 - val_loss: 0.0857\n",
            "Epoch 9/200\n",
            "600/600 [==============================] - 2s 4ms/step - loss: 0.0855 - val_loss: 0.0847\n",
            "Epoch 10/200\n",
            "600/600 [==============================] - 2s 3ms/step - loss: 0.0845 - val_loss: 0.0838\n",
            "Epoch 11/200\n",
            "600/600 [==============================] - 2s 4ms/step - loss: 0.0836 - val_loss: 0.0830\n",
            "Epoch 12/200\n",
            "600/600 [==============================] - 2s 4ms/step - loss: 0.0828 - val_loss: 0.0822\n",
            "Epoch 13/200\n",
            "600/600 [==============================] - 2s 3ms/step - loss: 0.0820 - val_loss: 0.0815\n",
            "Epoch 14/200\n",
            "600/600 [==============================] - 2s 3ms/step - loss: 0.0813 - val_loss: 0.0808\n",
            "Epoch 15/200\n",
            "600/600 [==============================] - 2s 3ms/step - loss: 0.0807 - val_loss: 0.0803\n",
            "Epoch 16/200\n",
            "600/600 [==============================] - 2s 4ms/step - loss: 0.0801 - val_loss: 0.0797\n",
            "Epoch 17/200\n",
            "600/600 [==============================] - 2s 4ms/step - loss: 0.0796 - val_loss: 0.0792\n",
            "Epoch 18/200\n",
            "600/600 [==============================] - 2s 4ms/step - loss: 0.0791 - val_loss: 0.0788\n",
            "Epoch 19/200\n",
            "600/600 [==============================] - 2s 4ms/step - loss: 0.0786 - val_loss: 0.0783\n",
            "Epoch 20/200\n",
            "600/600 [==============================] - 2s 3ms/step - loss: 0.0782 - val_loss: 0.0780\n",
            "Epoch 21/200\n",
            "600/600 [==============================] - 2s 4ms/step - loss: 0.0779 - val_loss: 0.0776\n",
            "Epoch 22/200\n",
            "600/600 [==============================] - 2s 4ms/step - loss: 0.0775 - val_loss: 0.0773\n",
            "Epoch 23/200\n",
            "600/600 [==============================] - 2s 3ms/step - loss: 0.0772 - val_loss: 0.0770\n",
            "Epoch 24/200\n",
            "600/600 [==============================] - 2s 4ms/step - loss: 0.0769 - val_loss: 0.0767\n",
            "Epoch 25/200\n",
            "600/600 [==============================] - 2s 4ms/step - loss: 0.0766 - val_loss: 0.0764\n",
            "Epoch 26/200\n",
            "600/600 [==============================] - 2s 3ms/step - loss: 0.0763 - val_loss: 0.0762\n",
            "Epoch 27/200\n",
            "600/600 [==============================] - 2s 3ms/step - loss: 0.0761 - val_loss: 0.0760\n",
            "Epoch 28/200\n",
            "600/600 [==============================] - 2s 3ms/step - loss: 0.0759 - val_loss: 0.0757\n",
            "Epoch 29/200\n",
            "600/600 [==============================] - 2s 3ms/step - loss: 0.0757 - val_loss: 0.0755\n",
            "Epoch 30/200\n",
            "600/600 [==============================] - 2s 4ms/step - loss: 0.0755 - val_loss: 0.0754\n",
            "Epoch 31/200\n",
            "600/600 [==============================] - 2s 4ms/step - loss: 0.0753 - val_loss: 0.0752\n",
            "Epoch 32/200\n",
            "600/600 [==============================] - 2s 4ms/step - loss: 0.0751 - val_loss: 0.0750\n",
            "Epoch 33/200\n",
            "600/600 [==============================] - 2s 4ms/step - loss: 0.0749 - val_loss: 0.0749\n",
            "Epoch 34/200\n",
            "600/600 [==============================] - 2s 3ms/step - loss: 0.0748 - val_loss: 0.0747\n",
            "Epoch 35/200\n",
            "600/600 [==============================] - 2s 4ms/step - loss: 0.0746 - val_loss: 0.0746\n",
            "Epoch 36/200\n",
            "600/600 [==============================] - 2s 4ms/step - loss: 0.0745 - val_loss: 0.0744\n",
            "Epoch 37/200\n",
            "600/600 [==============================] - 2s 4ms/step - loss: 0.0744 - val_loss: 0.0743\n",
            "Epoch 38/200\n",
            "600/600 [==============================] - 2s 4ms/step - loss: 0.0742 - val_loss: 0.0742\n",
            "Epoch 39/200\n",
            "600/600 [==============================] - 2s 4ms/step - loss: 0.0741 - val_loss: 0.0741\n",
            "Epoch 40/200\n",
            "600/600 [==============================] - 2s 4ms/step - loss: 0.0740 - val_loss: 0.0740\n",
            "Epoch 41/200\n",
            "600/600 [==============================] - 2s 4ms/step - loss: 0.0739 - val_loss: 0.0739\n",
            "Epoch 42/200\n",
            "600/600 [==============================] - 2s 4ms/step - loss: 0.0738 - val_loss: 0.0737\n",
            "Epoch 43/200\n",
            "600/600 [==============================] - 2s 3ms/step - loss: 0.0737 - val_loss: 0.0736\n",
            "Epoch 44/200\n",
            "600/600 [==============================] - 2s 3ms/step - loss: 0.0736 - val_loss: 0.0735\n",
            "Epoch 45/200\n",
            "600/600 [==============================] - 2s 3ms/step - loss: 0.0735 - val_loss: 0.0735\n",
            "Epoch 46/200\n",
            "600/600 [==============================] - 2s 3ms/step - loss: 0.0734 - val_loss: 0.0734\n",
            "Epoch 47/200\n",
            "600/600 [==============================] - 2s 4ms/step - loss: 0.0733 - val_loss: 0.0733\n",
            "Epoch 48/200\n",
            "600/600 [==============================] - 2s 3ms/step - loss: 0.0732 - val_loss: 0.0732\n",
            "Epoch 49/200\n",
            "600/600 [==============================] - 2s 4ms/step - loss: 0.0731 - val_loss: 0.0731\n",
            "Epoch 50/200\n",
            "600/600 [==============================] - 2s 3ms/step - loss: 0.0730 - val_loss: 0.0730\n",
            "Epoch 51/200\n",
            "600/600 [==============================] - 2s 3ms/step - loss: 0.0729 - val_loss: 0.0729\n",
            "Epoch 52/200\n",
            "600/600 [==============================] - 2s 4ms/step - loss: 0.0729 - val_loss: 0.0729\n",
            "Epoch 53/200\n",
            "600/600 [==============================] - 2s 4ms/step - loss: 0.0728 - val_loss: 0.0728\n",
            "Epoch 54/200\n",
            "600/600 [==============================] - 2s 3ms/step - loss: 0.0727 - val_loss: 0.0727\n",
            "Epoch 55/200\n",
            "600/600 [==============================] - 2s 3ms/step - loss: 0.0727 - val_loss: 0.0727\n",
            "Epoch 56/200\n",
            "600/600 [==============================] - 2s 3ms/step - loss: 0.0726 - val_loss: 0.0726\n",
            "Epoch 57/200\n",
            "600/600 [==============================] - 2s 3ms/step - loss: 0.0725 - val_loss: 0.0726\n",
            "Epoch 58/200\n",
            "600/600 [==============================] - 2s 3ms/step - loss: 0.0725 - val_loss: 0.0725\n",
            "Epoch 59/200\n",
            "600/600 [==============================] - 2s 4ms/step - loss: 0.0724 - val_loss: 0.0725\n",
            "Epoch 60/200\n",
            "600/600 [==============================] - 2s 4ms/step - loss: 0.0724 - val_loss: 0.0724\n",
            "Epoch 61/200\n",
            "600/600 [==============================] - 2s 4ms/step - loss: 0.0723 - val_loss: 0.0724\n",
            "Epoch 62/200\n",
            "600/600 [==============================] - 2s 4ms/step - loss: 0.0723 - val_loss: 0.0723\n",
            "Epoch 63/200\n",
            "600/600 [==============================] - 2s 3ms/step - loss: 0.0722 - val_loss: 0.0723\n",
            "Epoch 64/200\n",
            "600/600 [==============================] - 2s 4ms/step - loss: 0.0722 - val_loss: 0.0722\n",
            "Epoch 65/200\n",
            "600/600 [==============================] - 2s 4ms/step - loss: 0.0721 - val_loss: 0.0722\n",
            "Epoch 66/200\n",
            "600/600 [==============================] - 2s 4ms/step - loss: 0.0721 - val_loss: 0.0721\n",
            "Epoch 67/200\n",
            "600/600 [==============================] - 2s 4ms/step - loss: 0.0721 - val_loss: 0.0721\n",
            "Epoch 68/200\n",
            "600/600 [==============================] - 2s 4ms/step - loss: 0.0720 - val_loss: 0.0721\n",
            "Epoch 69/200\n",
            "600/600 [==============================] - 2s 4ms/step - loss: 0.0720 - val_loss: 0.0720\n",
            "Epoch 70/200\n",
            "600/600 [==============================] - 2s 4ms/step - loss: 0.0720 - val_loss: 0.0720\n",
            "Epoch 71/200\n",
            "600/600 [==============================] - 2s 4ms/step - loss: 0.0719 - val_loss: 0.0720\n",
            "Epoch 72/200\n",
            "600/600 [==============================] - 2s 4ms/step - loss: 0.0719 - val_loss: 0.0719\n",
            "Epoch 73/200\n",
            "600/600 [==============================] - 2s 4ms/step - loss: 0.0719 - val_loss: 0.0719\n",
            "Epoch 74/200\n",
            "600/600 [==============================] - 2s 4ms/step - loss: 0.0718 - val_loss: 0.0719\n",
            "Epoch 75/200\n",
            "600/600 [==============================] - 2s 4ms/step - loss: 0.0718 - val_loss: 0.0719\n",
            "Epoch 76/200\n",
            "600/600 [==============================] - 2s 4ms/step - loss: 0.0718 - val_loss: 0.0718\n",
            "Epoch 77/200\n",
            "600/600 [==============================] - 2s 3ms/step - loss: 0.0718 - val_loss: 0.0718\n",
            "Epoch 78/200\n",
            "600/600 [==============================] - 2s 3ms/step - loss: 0.0717 - val_loss: 0.0718\n",
            "Epoch 79/200\n",
            "600/600 [==============================] - 2s 4ms/step - loss: 0.0717 - val_loss: 0.0717\n",
            "Epoch 80/200\n",
            "600/600 [==============================] - 2s 4ms/step - loss: 0.0717 - val_loss: 0.0717\n",
            "Epoch 81/200\n",
            "600/600 [==============================] - 2s 3ms/step - loss: 0.0717 - val_loss: 0.0717\n",
            "Epoch 82/200\n",
            "600/600 [==============================] - 2s 3ms/step - loss: 0.0716 - val_loss: 0.0717\n",
            "Epoch 83/200\n",
            "600/600 [==============================] - 2s 4ms/step - loss: 0.0716 - val_loss: 0.0717\n",
            "Epoch 84/200\n",
            "600/600 [==============================] - 2s 4ms/step - loss: 0.0716 - val_loss: 0.0716\n",
            "Epoch 85/200\n",
            "600/600 [==============================] - 2s 4ms/step - loss: 0.0716 - val_loss: 0.0716\n",
            "Epoch 86/200\n",
            "600/600 [==============================] - 2s 3ms/step - loss: 0.0715 - val_loss: 0.0716\n",
            "Epoch 87/200\n",
            "600/600 [==============================] - 2s 3ms/step - loss: 0.0715 - val_loss: 0.0716\n",
            "Epoch 88/200\n",
            "600/600 [==============================] - 2s 4ms/step - loss: 0.0715 - val_loss: 0.0715\n",
            "Epoch 89/200\n",
            "600/600 [==============================] - 2s 4ms/step - loss: 0.0715 - val_loss: 0.0715\n",
            "Epoch 90/200\n",
            "600/600 [==============================] - 2s 3ms/step - loss: 0.0715 - val_loss: 0.0715\n",
            "Epoch 91/200\n",
            "600/600 [==============================] - 2s 3ms/step - loss: 0.0714 - val_loss: 0.0715\n",
            "Epoch 92/200\n",
            "600/600 [==============================] - 2s 3ms/step - loss: 0.0714 - val_loss: 0.0715\n",
            "Epoch 93/200\n",
            "600/600 [==============================] - 2s 4ms/step - loss: 0.0714 - val_loss: 0.0715\n",
            "Epoch 94/200\n",
            "600/600 [==============================] - 2s 4ms/step - loss: 0.0714 - val_loss: 0.0714\n",
            "Epoch 95/200\n",
            "600/600 [==============================] - 2s 4ms/step - loss: 0.0714 - val_loss: 0.0714\n",
            "Epoch 96/200\n",
            "600/600 [==============================] - 2s 3ms/step - loss: 0.0713 - val_loss: 0.0714\n",
            "Epoch 97/200\n",
            "600/600 [==============================] - 2s 4ms/step - loss: 0.0713 - val_loss: 0.0714\n",
            "Epoch 98/200\n",
            "600/600 [==============================] - 2s 3ms/step - loss: 0.0713 - val_loss: 0.0714\n",
            "Epoch 99/200\n",
            "600/600 [==============================] - 2s 4ms/step - loss: 0.0713 - val_loss: 0.0713\n",
            "Epoch 100/200\n",
            "600/600 [==============================] - 2s 4ms/step - loss: 0.0713 - val_loss: 0.0713\n",
            "Epoch 101/200\n",
            "600/600 [==============================] - 2s 4ms/step - loss: 0.0712 - val_loss: 0.0713\n",
            "Epoch 102/200\n",
            "600/600 [==============================] - 2s 4ms/step - loss: 0.0712 - val_loss: 0.0713\n",
            "Epoch 103/200\n",
            "600/600 [==============================] - 2s 4ms/step - loss: 0.0712 - val_loss: 0.0713\n",
            "Epoch 104/200\n",
            "600/600 [==============================] - 2s 4ms/step - loss: 0.0712 - val_loss: 0.0713\n",
            "Epoch 105/200\n",
            "600/600 [==============================] - 2s 4ms/step - loss: 0.0712 - val_loss: 0.0712\n",
            "Epoch 106/200\n",
            "600/600 [==============================] - 2s 3ms/step - loss: 0.0712 - val_loss: 0.0712\n",
            "Epoch 107/200\n",
            "600/600 [==============================] - 2s 4ms/step - loss: 0.0711 - val_loss: 0.0712\n",
            "Epoch 108/200\n",
            "600/600 [==============================] - 2s 4ms/step - loss: 0.0711 - val_loss: 0.0712\n",
            "Epoch 109/200\n",
            "600/600 [==============================] - 2s 4ms/step - loss: 0.0711 - val_loss: 0.0712\n",
            "Epoch 110/200\n",
            "600/600 [==============================] - 2s 4ms/step - loss: 0.0711 - val_loss: 0.0712\n",
            "Epoch 111/200\n",
            "600/600 [==============================] - 2s 4ms/step - loss: 0.0711 - val_loss: 0.0711\n",
            "Epoch 112/200\n",
            "600/600 [==============================] - 2s 4ms/step - loss: 0.0711 - val_loss: 0.0711\n",
            "Epoch 113/200\n",
            "600/600 [==============================] - 2s 4ms/step - loss: 0.0710 - val_loss: 0.0711\n",
            "Epoch 114/200\n",
            "600/600 [==============================] - 2s 4ms/step - loss: 0.0710 - val_loss: 0.0711\n",
            "Epoch 115/200\n",
            "600/600 [==============================] - 2s 4ms/step - loss: 0.0710 - val_loss: 0.0711\n",
            "Epoch 116/200\n",
            "600/600 [==============================] - 2s 4ms/step - loss: 0.0710 - val_loss: 0.0711\n",
            "Epoch 117/200\n",
            "600/600 [==============================] - 2s 4ms/step - loss: 0.0710 - val_loss: 0.0711\n",
            "Epoch 118/200\n",
            "600/600 [==============================] - 2s 4ms/step - loss: 0.0710 - val_loss: 0.0710\n",
            "Epoch 119/200\n",
            "600/600 [==============================] - 2s 3ms/step - loss: 0.0710 - val_loss: 0.0710\n",
            "Epoch 120/200\n",
            "600/600 [==============================] - 2s 4ms/step - loss: 0.0709 - val_loss: 0.0710\n",
            "Epoch 121/200\n",
            "600/600 [==============================] - 2s 4ms/step - loss: 0.0709 - val_loss: 0.0710\n",
            "Epoch 122/200\n",
            "600/600 [==============================] - 2s 4ms/step - loss: 0.0709 - val_loss: 0.0710\n",
            "Epoch 123/200\n",
            "600/600 [==============================] - 2s 4ms/step - loss: 0.0709 - val_loss: 0.0710\n",
            "Epoch 124/200\n",
            "600/600 [==============================] - 2s 4ms/step - loss: 0.0709 - val_loss: 0.0710\n",
            "Epoch 125/200\n",
            "600/600 [==============================] - 2s 4ms/step - loss: 0.0709 - val_loss: 0.0709\n",
            "Epoch 126/200\n",
            "600/600 [==============================] - 2s 3ms/step - loss: 0.0709 - val_loss: 0.0709\n",
            "Epoch 127/200\n",
            "600/600 [==============================] - 2s 4ms/step - loss: 0.0708 - val_loss: 0.0709\n",
            "Epoch 128/200\n",
            "600/600 [==============================] - 2s 4ms/step - loss: 0.0708 - val_loss: 0.0709\n",
            "Epoch 129/200\n",
            "600/600 [==============================] - 2s 4ms/step - loss: 0.0708 - val_loss: 0.0709\n",
            "Epoch 130/200\n",
            "600/600 [==============================] - 2s 4ms/step - loss: 0.0708 - val_loss: 0.0709\n",
            "Epoch 131/200\n",
            "600/600 [==============================] - 2s 4ms/step - loss: 0.0708 - val_loss: 0.0709\n",
            "Epoch 132/200\n",
            "600/600 [==============================] - 2s 4ms/step - loss: 0.0708 - val_loss: 0.0708\n",
            "Epoch 133/200\n",
            "600/600 [==============================] - 2s 4ms/step - loss: 0.0708 - val_loss: 0.0708\n",
            "Epoch 134/200\n",
            "600/600 [==============================] - 2s 4ms/step - loss: 0.0708 - val_loss: 0.0708\n",
            "Epoch 135/200\n",
            "600/600 [==============================] - 2s 4ms/step - loss: 0.0707 - val_loss: 0.0708\n",
            "Epoch 136/200\n",
            "600/600 [==============================] - 2s 4ms/step - loss: 0.0707 - val_loss: 0.0708\n",
            "Epoch 137/200\n",
            "600/600 [==============================] - 2s 4ms/step - loss: 0.0707 - val_loss: 0.0708\n",
            "Epoch 138/200\n",
            "600/600 [==============================] - 2s 4ms/step - loss: 0.0707 - val_loss: 0.0708\n",
            "Epoch 139/200\n",
            "600/600 [==============================] - 2s 4ms/step - loss: 0.0707 - val_loss: 0.0708\n",
            "Epoch 140/200\n",
            "600/600 [==============================] - 2s 4ms/step - loss: 0.0707 - val_loss: 0.0707\n",
            "Epoch 141/200\n",
            "600/600 [==============================] - 2s 4ms/step - loss: 0.0707 - val_loss: 0.0707\n",
            "Epoch 142/200\n",
            "600/600 [==============================] - 2s 4ms/step - loss: 0.0707 - val_loss: 0.0707\n",
            "Epoch 143/200\n",
            "600/600 [==============================] - 2s 4ms/step - loss: 0.0706 - val_loss: 0.0707\n",
            "Epoch 144/200\n",
            "600/600 [==============================] - 2s 4ms/step - loss: 0.0706 - val_loss: 0.0707\n",
            "Epoch 145/200\n",
            "600/600 [==============================] - 2s 4ms/step - loss: 0.0706 - val_loss: 0.0707\n",
            "Epoch 146/200\n",
            "600/600 [==============================] - 2s 4ms/step - loss: 0.0706 - val_loss: 0.0707\n",
            "Epoch 147/200\n",
            "600/600 [==============================] - 2s 4ms/step - loss: 0.0706 - val_loss: 0.0707\n",
            "Epoch 148/200\n",
            "600/600 [==============================] - 2s 4ms/step - loss: 0.0706 - val_loss: 0.0707\n",
            "Epoch 149/200\n",
            "600/600 [==============================] - 2s 4ms/step - loss: 0.0706 - val_loss: 0.0706\n",
            "Epoch 150/200\n",
            "600/600 [==============================] - 2s 4ms/step - loss: 0.0706 - val_loss: 0.0706\n",
            "Epoch 151/200\n",
            "600/600 [==============================] - 2s 4ms/step - loss: 0.0706 - val_loss: 0.0706\n",
            "Epoch 152/200\n",
            "600/600 [==============================] - 2s 4ms/step - loss: 0.0705 - val_loss: 0.0706\n",
            "Epoch 153/200\n",
            "600/600 [==============================] - 2s 4ms/step - loss: 0.0705 - val_loss: 0.0706\n",
            "Epoch 154/200\n",
            "600/600 [==============================] - 2s 4ms/step - loss: 0.0705 - val_loss: 0.0706\n",
            "Epoch 155/200\n",
            "600/600 [==============================] - 2s 4ms/step - loss: 0.0705 - val_loss: 0.0706\n",
            "Epoch 156/200\n",
            "600/600 [==============================] - 2s 4ms/step - loss: 0.0705 - val_loss: 0.0706\n",
            "Epoch 157/200\n",
            "600/600 [==============================] - 2s 4ms/step - loss: 0.0705 - val_loss: 0.0706\n",
            "Epoch 158/200\n",
            "600/600 [==============================] - 2s 4ms/step - loss: 0.0705 - val_loss: 0.0705\n",
            "Epoch 159/200\n",
            "600/600 [==============================] - 2s 4ms/step - loss: 0.0705 - val_loss: 0.0705\n",
            "Epoch 160/200\n",
            "600/600 [==============================] - 2s 3ms/step - loss: 0.0705 - val_loss: 0.0705\n",
            "Epoch 161/200\n",
            "600/600 [==============================] - 2s 4ms/step - loss: 0.0704 - val_loss: 0.0705\n",
            "Epoch 162/200\n",
            "600/600 [==============================] - 2s 4ms/step - loss: 0.0704 - val_loss: 0.0705\n",
            "Epoch 163/200\n",
            "600/600 [==============================] - 2s 4ms/step - loss: 0.0704 - val_loss: 0.0705\n",
            "Epoch 164/200\n",
            "600/600 [==============================] - 2s 4ms/step - loss: 0.0704 - val_loss: 0.0705\n",
            "Epoch 165/200\n",
            "600/600 [==============================] - 2s 4ms/step - loss: 0.0704 - val_loss: 0.0705\n",
            "Epoch 166/200\n",
            "600/600 [==============================] - 2s 4ms/step - loss: 0.0704 - val_loss: 0.0705\n",
            "Epoch 167/200\n",
            "600/600 [==============================] - 2s 4ms/step - loss: 0.0704 - val_loss: 0.0705\n",
            "Epoch 168/200\n",
            "600/600 [==============================] - 2s 4ms/step - loss: 0.0704 - val_loss: 0.0704\n",
            "Epoch 169/200\n",
            "600/600 [==============================] - 2s 4ms/step - loss: 0.0704 - val_loss: 0.0704\n",
            "Epoch 170/200\n",
            "600/600 [==============================] - 2s 4ms/step - loss: 0.0704 - val_loss: 0.0704\n",
            "Epoch 171/200\n",
            "600/600 [==============================] - 2s 4ms/step - loss: 0.0703 - val_loss: 0.0704\n",
            "Epoch 172/200\n",
            "600/600 [==============================] - 2s 4ms/step - loss: 0.0703 - val_loss: 0.0704\n",
            "Epoch 173/200\n",
            "600/600 [==============================] - 2s 4ms/step - loss: 0.0703 - val_loss: 0.0704\n",
            "Epoch 174/200\n",
            "600/600 [==============================] - 2s 4ms/step - loss: 0.0703 - val_loss: 0.0704\n",
            "Epoch 175/200\n",
            "600/600 [==============================] - 2s 4ms/step - loss: 0.0703 - val_loss: 0.0704\n",
            "Epoch 176/200\n",
            "600/600 [==============================] - 2s 4ms/step - loss: 0.0703 - val_loss: 0.0704\n",
            "Epoch 177/200\n",
            "600/600 [==============================] - 2s 4ms/step - loss: 0.0703 - val_loss: 0.0704\n",
            "Epoch 178/200\n",
            "600/600 [==============================] - 2s 4ms/step - loss: 0.0703 - val_loss: 0.0703\n",
            "Epoch 179/200\n",
            "600/600 [==============================] - 2s 4ms/step - loss: 0.0703 - val_loss: 0.0703\n",
            "Epoch 180/200\n",
            "600/600 [==============================] - 2s 4ms/step - loss: 0.0703 - val_loss: 0.0703\n",
            "Epoch 181/200\n",
            "600/600 [==============================] - 2s 4ms/step - loss: 0.0703 - val_loss: 0.0703\n",
            "Epoch 182/200\n",
            "600/600 [==============================] - 2s 4ms/step - loss: 0.0702 - val_loss: 0.0703\n",
            "Epoch 183/200\n",
            "600/600 [==============================] - 2s 4ms/step - loss: 0.0702 - val_loss: 0.0703\n",
            "Epoch 184/200\n",
            "600/600 [==============================] - 2s 4ms/step - loss: 0.0702 - val_loss: 0.0703\n",
            "Epoch 185/200\n",
            "600/600 [==============================] - 2s 4ms/step - loss: 0.0702 - val_loss: 0.0703\n",
            "Epoch 186/200\n",
            "600/600 [==============================] - 2s 4ms/step - loss: 0.0702 - val_loss: 0.0703\n",
            "Epoch 187/200\n",
            "600/600 [==============================] - 2s 4ms/step - loss: 0.0702 - val_loss: 0.0703\n",
            "Epoch 188/200\n",
            "600/600 [==============================] - 2s 4ms/step - loss: 0.0702 - val_loss: 0.0702\n",
            "Epoch 189/200\n",
            "600/600 [==============================] - 2s 4ms/step - loss: 0.0702 - val_loss: 0.0702\n",
            "Epoch 190/200\n",
            "600/600 [==============================] - 2s 4ms/step - loss: 0.0702 - val_loss: 0.0702\n",
            "Epoch 191/200\n",
            "600/600 [==============================] - 2s 3ms/step - loss: 0.0702 - val_loss: 0.0702\n",
            "Epoch 192/200\n",
            "600/600 [==============================] - 2s 4ms/step - loss: 0.0701 - val_loss: 0.0702\n",
            "Epoch 193/200\n",
            "600/600 [==============================] - 2s 4ms/step - loss: 0.0701 - val_loss: 0.0702\n",
            "Epoch 194/200\n",
            "600/600 [==============================] - 2s 4ms/step - loss: 0.0701 - val_loss: 0.0702\n",
            "Epoch 195/200\n",
            "600/600 [==============================] - 2s 4ms/step - loss: 0.0701 - val_loss: 0.0702\n",
            "Epoch 196/200\n",
            "600/600 [==============================] - 2s 4ms/step - loss: 0.0701 - val_loss: 0.0702\n",
            "Epoch 197/200\n",
            "600/600 [==============================] - 2s 3ms/step - loss: 0.0701 - val_loss: 0.0702\n",
            "Epoch 198/200\n",
            "600/600 [==============================] - 2s 4ms/step - loss: 0.0701 - val_loss: 0.0701\n",
            "Epoch 199/200\n",
            "600/600 [==============================] - 2s 4ms/step - loss: 0.0701 - val_loss: 0.0701\n",
            "Epoch 200/200\n",
            "600/600 [==============================] - 2s 4ms/step - loss: 0.0701 - val_loss: 0.0701\n"
          ]
        }
      ]
    },
    {
      "cell_type": "code",
      "metadata": {
        "id": "YxdzxuxMBUiA"
      },
      "source": [
        "out_loss = ffnn_digit200.history['loss']\n",
        "out_val_loss = ffnn_digit200.history['val_loss']"
      ],
      "execution_count": 42,
      "outputs": []
    },
    {
      "cell_type": "code",
      "metadata": {
        "id": "PIk5S8ZkBU8g"
      },
      "source": [
        "epoch_num = np.linspace(1, len(out_loss), len(out_loss), endpoint=True)"
      ],
      "execution_count": 43,
      "outputs": []
    },
    {
      "cell_type": "code",
      "metadata": {
        "colab": {
          "base_uri": "https://localhost:8080/",
          "height": 614
        },
        "id": "BOnS8RqIBY3r",
        "outputId": "08c3f41f-9876-4a73-e5c8-0514803f5670"
      },
      "source": [
        "plt.figure(figsize=(10, 10))\n",
        "\n",
        "plt.plot(epoch_num, out_loss, color='red', linestyle='solid',\n",
        "         label='train loss')\n",
        "plt.plot(epoch_num, out_val_loss, color='blue', linestyle='solid',\n",
        "         label='val loss')\n",
        "\n",
        "plt.xlabel('epoch', fontsize=18)\n",
        "plt.ylabel('loss', fontsize=18)\n",
        "plt.legend(loc='best', fontsize=18)\n",
        "plt.show()"
      ],
      "execution_count": 44,
      "outputs": [
        {
          "output_type": "display_data",
          "data": {
            "image/png": "[encoded data removed]",
            "text/plain": [
              "<Figure size 720x720 with 1 Axes>"
            ]
          },
          "metadata": {
            "needs_background": "light"
          }
        }
      ]
    },
    {
      "cell_type": "markdown",
      "metadata": {
        "id": "Kakovl6PDRn5"
      },
      "source": [
        "# Zoom in to ensure overtraining is not happening and that the algorithm isn't learning anymore (although it doesn't look like it)."
      ]
    },
    {
      "cell_type": "code",
      "metadata": {
        "colab": {
          "base_uri": "https://localhost:8080/",
          "height": 618
        },
        "id": "vwlJPoIVDaTK",
        "outputId": "9b7bae4d-9a2e-4b89-d47c-49ff5d1476fe"
      },
      "source": [
        "plt.figure(figsize=(10, 10))\n",
        "\n",
        "plt.plot(epoch_num, out_loss, color='red', linestyle='solid',\n",
        "         label='train loss')\n",
        "plt.plot(epoch_num, out_val_loss, color='blue', linestyle='solid',\n",
        "         label='val loss')\n",
        "\n",
        "plt.xlim(left=125)\n",
        "plt.ylim(top=0.074)\n",
        "\n",
        "plt.xlabel('epoch', fontsize=18)\n",
        "plt.ylabel('loss', fontsize=18)\n",
        "plt.legend(loc='best', fontsize=18)\n",
        "plt.show()"
      ],
      "execution_count": 46,
      "outputs": [
        {
          "output_type": "display_data",
          "data": {
            "image/png": "[encoded data removed]",
            "text/plain": [
              "<Figure size 720x720 with 1 Axes>"
            ]
          },
          "metadata": {
            "needs_background": "light"
          }
        }
      ]
    },
    {
      "cell_type": "markdown",
      "metadata": {
        "id": "AxntG2OQDvA4"
      },
      "source": [
        "# Looks good. Still might be learning although it is not worth it to run for more epochs (not learning at a fast enough rate)."
      ]
    },
    {
      "cell_type": "markdown",
      "metadata": {
        "id": "VW1s337b_nr5"
      },
      "source": [
        "# Now predict what we would get from our FFNN"
      ]
    },
    {
      "cell_type": "code",
      "metadata": {
        "id": "6OnjbtgO_rH7"
      },
      "source": [
        "output_image64 = model_digits.predict(x_test)"
      ],
      "execution_count": 48,
      "outputs": []
    },
    {
      "cell_type": "code",
      "metadata": {
        "id": "J3eQiFn3_sgL"
      },
      "source": [
        "def compareinout(i, outim, testimg, initialshape=(28,28)):\n",
        "  '''\n",
        "  Function to plot the input and the target.\n",
        "  Plots the ith training data point.\n",
        "\n",
        "  Parameters:\n",
        "  i -> Index of training data to plot\n",
        "  outim -> Name of the predicted (target) image\n",
        "  testing -> Name of the testing data set to predict\n",
        "  initialshape -> Shape of the output image\n",
        "  '''\n",
        "  fig = plt.figure(figsize=(10,5))\n",
        "  ax = fig.add_subplot(121) \n",
        "  ax.imshow(testimg[i].reshape(initialshape) , cmap=\"bone\")\n",
        "  ax.get_xaxis().set_visible(False)\n",
        "  ax.get_yaxis().set_visible(False)\n",
        "  ax = fig.add_subplot(122) \n",
        "  ax.imshow(outim[i].reshape(initialshape) , cmap=\"bone\")\n",
        "  ax.get_xaxis().set_visible(False)\n",
        "  ax.get_yaxis().set_visible(False)\n"
      ],
      "execution_count": 54,
      "outputs": []
    },
    {
      "cell_type": "code",
      "metadata": {
        "colab": {
          "base_uri": "https://localhost:8080/",
          "height": 1000
        },
        "id": "5PZB9q4B_0u0",
        "outputId": "65dc2598-a432-47a1-aa56-ddeb5501a6de"
      },
      "source": [
        "for i in range(10):\n",
        "  compareinout(i, output_image64, x_test)\n"
      ],
      "execution_count": 55,
      "outputs": [
        {
          "output_type": "display_data",
          "data": {
            "image/png": "[encoded data removed]",
            "text/plain": [
              "<Figure size 720x360 with 2 Axes>"
            ]
          },
          "metadata": {
            "needs_background": "light"
          }
        },
        {
          "output_type": "display_data",
          "data": {
            "image/png": "[encoded data removed]",
            "text/plain": [
              "<Figure size 720x360 with 2 Axes>"
            ]
          },
          "metadata": {
            "needs_background": "light"
          }
        },
        {
          "output_type": "display_data",
          "data": {
            "image/png": "[encoded data removed]",
            "text/plain": [
              "<Figure size 720x360 with 2 Axes>"
            ]
          },
          "metadata": {
            "needs_background": "light"
          }
        },
        {
          "output_type": "display_data",
          "data": {
            "image/png": "[encoded data removed]",
            "text/plain": [
              "<Figure size 720x360 with 2 Axes>"
            ]
          },
          "metadata": {
            "needs_background": "light"
          }
        },
        {
          "output_type": "display_data",
          "data": {
            "image/png": "[encoded data removed]",
            "text/plain": [
              "<Figure size 720x360 with 2 Axes>"
            ]
          },
          "metadata": {
            "needs_background": "light"
          }
        },
        {
          "output_type": "display_data",
          "data": {
            "image/png": "[encoded data removed]",
            "text/plain": [
              "<Figure size 720x360 with 2 Axes>"
            ]
          },
          "metadata": {
            "needs_background": "light"
          }
        },
        {
          "output_type": "display_data",
          "data": {
            "image/png": "[encoded data removed]",
            "text/plain": [
              "<Figure size 720x360 with 2 Axes>"
            ]
          },
          "metadata": {
            "needs_background": "light"
          }
        },
        {
          "output_type": "display_data",
          "data": {
            "image/png": "[encoded data removed]",
            "text/plain": [
              "<Figure size 720x360 with 2 Axes>"
            ]
          },
          "metadata": {
            "needs_background": "light"
          }
        },
        {
          "output_type": "display_data",
          "data": {
            "image/png": "[encoded data removed]",
            "text/plain": [
              "<Figure size 720x360 with 2 Axes>"
            ]
          },
          "metadata": {
            "needs_background": "light"
          }
        },
        {
          "output_type": "display_data",
          "data": {
            "image/png": "[encoded data removed]",
            "text/plain": [
              "<Figure size 720x360 with 2 Axes>"
            ]
          },
          "metadata": {
            "needs_background": "light"
          }
        }
      ]
    },
    {
      "cell_type": "code",
      "metadata": {
        "id": "K-_y1uyYEAxa"
      },
      "source": [
        ""
      ],
      "execution_count": null,
      "outputs": []
    }
  ]
}