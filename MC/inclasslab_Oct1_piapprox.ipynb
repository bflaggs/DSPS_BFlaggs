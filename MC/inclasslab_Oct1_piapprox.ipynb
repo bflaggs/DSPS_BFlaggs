{
  "nbformat": 4,
  "nbformat_minor": 0,
  "metadata": {
    "colab": {
      "name": "inclasslab_Oct1.ipynb",
      "provenance": [],
      "collapsed_sections": [],
      "include_colab_link": true
    },
    "kernelspec": {
      "name": "python3",
      "display_name": "Python 3"
    }
  },
  "cells": [
    {
      "cell_type": "markdown",
      "metadata": {
        "id": "view-in-github",
        "colab_type": "text"
      },
      "source": [
        "<a href=\"https://colab.research.google.com/github/bflaggs/DSPS_BFlaggs/blob/main/MC/inclasslab_Oct1_piapprox.ipynb\" target=\"_parent\"><img src=\"https://colab.research.google.com/assets/colab-badge.svg\" alt=\"Open In Colab\"/></a>"
      ]
    },
    {
      "cell_type": "code",
      "metadata": {
        "id": "48HNFOn1xKVX",
        "colab": {
          "base_uri": "https://localhost:8080/"
        },
        "outputId": "0fd060c3-fbf5-4d8f-c358-46c33f0afbc4"
      },
      "source": [
        "import numpy as np\n",
        "import pylab as pl\n",
        "#!pip install astropy\n",
        "import astropy\n",
        "from astropy import units as u\n",
        "import matplotlib.pyplot as plt\n",
        "\n",
        "\n",
        "%pylab inline\n"
      ],
      "execution_count": 18,
      "outputs": [
        {
          "output_type": "stream",
          "name": "stdout",
          "text": [
            "Populating the interactive namespace from numpy and matplotlib\n"
          ]
        },
        {
          "output_type": "stream",
          "name": "stderr",
          "text": [
            "/usr/local/lib/python3.7/dist-packages/IPython/core/magics/pylab.py:161: UserWarning: pylab import has clobbered these variables: ['square', 'isin']\n",
            "`%matplotlib` prevents importing * from pylab and numpy\n",
            "  \"\\n`%matplotlib` prevents importing * from pylab and numpy\"\n"
          ]
        }
      ]
    },
    {
      "cell_type": "markdown",
      "metadata": {
        "id": "_3wBMf6fiA5l"
      },
      "source": [
        "What you know: The ratio of the area of the circle to the area of the square is π / 4."
      ]
    },
    {
      "cell_type": "code",
      "metadata": {
        "id": "0ZofSIqBFVcC"
      },
      "source": [
        "def square(l, ax):\n",
        "  ax.plot([-l, l], [-l, -l], 'k-')\n",
        "  ax.plot([-l, l], [l, l], 'k-')\n",
        "  ax.plot([-l, -l], [-l, l], 'k-')\n",
        "  ax.plot([l, l], [-l, l], 'k-')\n",
        "  "
      ],
      "execution_count": 2,
      "outputs": []
    },
    {
      "cell_type": "code",
      "metadata": {
        "id": "gebTwteLGY5C"
      },
      "source": [
        "def circle(l, ax):\n",
        "  theta = np.linspace(0, 360, 100)\n",
        "  theta *= u.degree\n",
        "  x = l * np.cos(theta.to(u.rad))\n",
        "  y = l * np.sin(theta.to(u.rad))\n",
        "  ax.plot(x, y, 'k-')\n",
        "  "
      ],
      "execution_count": 3,
      "outputs": []
    },
    {
      "cell_type": "code",
      "metadata": {
        "id": "jmujRXm-xW_O",
        "colab": {
          "base_uri": "https://localhost:8080/",
          "height": 320
        },
        "outputId": "f1c3bc33-8332-4329-bab4-6b6cf3fa060f"
      },
      "source": [
        "fig, ax = pl.subplots(figsize=(5, 5))\n",
        "square(1, ax=ax)\n",
        "circle(1, ax=ax)"
      ],
      "execution_count": 4,
      "outputs": [
        {
          "output_type": "display_data",
          "data": {
            "image/png": "[encoded data removed]",
            "text/plain": [
              "<Figure size 360x360 with 1 Axes>"
            ]
          },
          "metadata": {
            "needs_background": "light"
          }
        }
      ]
    },
    {
      "cell_type": "code",
      "metadata": {
        "id": "dzUf8KLOKH30"
      },
      "source": [
        "def isin(x, y, l):\n",
        "  if x**2 + y**2 <= l:\n",
        "    inside = 1\n",
        "  else:\n",
        "    inside = 0\n",
        "  return inside"
      ],
      "execution_count": 5,
      "outputs": []
    },
    {
      "cell_type": "code",
      "metadata": {
        "id": "6lBzW1sQFv5W",
        "colab": {
          "base_uri": "https://localhost:8080/"
        },
        "outputId": "8dd52d15-dc4f-40fe-8bb8-a866d167b5c7"
      },
      "source": [
        "np.random.seed(123)\n",
        "Nx = np.random.rand(10000)\n",
        "Ny = np.random.rand(10000)\n",
        "\n",
        "print(Nx)\n",
        "print(Ny)\n",
        "print(len(Nx))\n",
        "print(len(Ny))\n"
      ],
      "execution_count": 9,
      "outputs": [
        {
          "output_type": "stream",
          "name": "stdout",
          "text": [
            "[0.69646919 0.28613933 0.22685145 ... 0.98514494 0.22066212 0.61329717]\n",
            "[0.66314239 0.8397864  0.82365438 ... 0.44507334 0.27707334 0.27993699]\n",
            "10000\n",
            "10000\n"
          ]
        }
      ]
    },
    {
      "cell_type": "code",
      "metadata": {
        "id": "gAGyGI3sT1CX"
      },
      "source": [
        "totInside = 0\n",
        "for i in range(len(Nx)):\n",
        "  isItIn = isin(Nx[i], Ny[i], 1.0)\n",
        "  totInside = totInside + isItIn"
      ],
      "execution_count": 11,
      "outputs": []
    },
    {
      "cell_type": "code",
      "metadata": {
        "id": "rnGd0eVXLF1V",
        "colab": {
          "base_uri": "https://localhost:8080/"
        },
        "outputId": "d8ee71be-b608-40c2-95ba-c1496c921459"
      },
      "source": [
        "print(totInside)"
      ],
      "execution_count": 12,
      "outputs": [
        {
          "output_type": "stream",
          "name": "stdout",
          "text": [
            "7864\n"
          ]
        }
      ]
    },
    {
      "cell_type": "code",
      "metadata": {
        "id": "AzKnnKWkL6XE",
        "colab": {
          "base_uri": "https://localhost:8080/"
        },
        "outputId": "ccd18d75-c3c7-46b0-d5e2-e99a9de437de"
      },
      "source": [
        "piMC = (totInside / len(Nx)) * 4\n",
        "print(piMC)"
      ],
      "execution_count": 14,
      "outputs": [
        {
          "output_type": "stream",
          "name": "stdout",
          "text": [
            "3.1456\n"
          ]
        }
      ]
    },
    {
      "cell_type": "code",
      "metadata": {
        "colab": {
          "base_uri": "https://localhost:8080/"
        },
        "id": "29Jt2_R2N5l0",
        "outputId": "cfcd8288-86ed-489e-e5f9-eaaeb4a1da98"
      },
      "source": [
        "pi"
      ],
      "execution_count": 15,
      "outputs": [
        {
          "output_type": "execute_result",
          "data": {
            "text/plain": [
              "3.141592653589793"
            ]
          },
          "metadata": {},
          "execution_count": 15
        }
      ]
    },
    {
      "cell_type": "code",
      "metadata": {
        "id": "AUK84sU2OcnW"
      },
      "source": [
        "Ns = [10, 100, 1000, 5000, 10000, 50000]\n",
        "\n",
        "piMCs = []\n",
        "\n",
        "for i in range(len(Ns)):\n",
        "  Nxs = np.random.rand(Ns[i])\n",
        "  Nys = np.random.rand(Ns[i])\n",
        "\n",
        "  totInCircle = 0\n",
        "  for j in range(len(Nxs)):\n",
        "    inCircle = isin(Nxs[j], Nys[j], 1.0)\n",
        "    totInCircle = totInCircle + inCircle\n",
        "\n",
        "  piMCs.append((totInCircle / len(Nxs)) * 4)"
      ],
      "execution_count": 17,
      "outputs": []
    },
    {
      "cell_type": "code",
      "metadata": {
        "colab": {
          "base_uri": "https://localhost:8080/",
          "height": 282
        },
        "id": "pnTkJQn9QLHz",
        "outputId": "b864b8b6-8353-417e-d1a2-ce696829630e"
      },
      "source": [
        "plt.plot(Ns, piMCs)"
      ],
      "execution_count": 19,
      "outputs": [
        {
          "output_type": "execute_result",
          "data": {
            "text/plain": [
              "[<matplotlib.lines.Line2D at 0x7f3bc84e9b10>]"
            ]
          },
          "metadata": {},
          "execution_count": 19
        },
        {
          "output_type": "display_data",
          "data": {
            "image/png": "[encoded data removed]",
            "text/plain": [
              "<Figure size 432x288 with 1 Axes>"
            ]
          },
          "metadata": {
            "needs_background": "light"
          }
        }
      ]
    },
    {
      "cell_type": "code",
      "metadata": {
        "id": "0K3uDbl7QaLX"
      },
      "source": [
        ""
      ],
      "execution_count": null,
      "outputs": []
    }
  ]
}