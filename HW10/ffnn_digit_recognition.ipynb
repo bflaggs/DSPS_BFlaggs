{
  "nbformat": 4,
  "nbformat_minor": 0,
  "metadata": {
    "colab": {
      "name": "ffnn_digit_recognition.ipynb",
      "provenance": [],
      "collapsed_sections": [],
      "authorship_tag": "ABX9TyOtnaaaz98eIH10PWqarM58",
      "include_colab_link": true
    },
    "kernelspec": {
      "name": "python3",
      "display_name": "Python 3"
    },
    "language_info": {
      "name": "python"
    },
    "accelerator": "GPU"
  },
  "cells": [
    {
      "cell_type": "markdown",
      "metadata": {
        "id": "view-in-github",
        "colab_type": "text"
      },
      "source": [
        "<a href=\"https://colab.research.google.com/github/bflaggs/DSPS_BFlaggs/blob/main/HW10/ffnn_digit_recognition.ipynb\" target=\"_parent\"><img src=\"https://colab.research.google.com/assets/colab-badge.svg\" alt=\"Open In Colab\"/></a>"
      ]
    },
    {
      "cell_type": "markdown",
      "metadata": {
        "id": "H4otaGu2TDvP"
      },
      "source": [
        "# Must change runtime to GPU!!!!!\n",
        "\n",
        "### Do this by...\n",
        "Runtime -> Change runtime type -> GPU"
      ]
    },
    {
      "cell_type": "markdown",
      "metadata": {
        "id": "nOJavHFKTV5d"
      },
      "source": [
        "### Must do this before doing anything or else you will have to rerun everything."
      ]
    },
    {
      "cell_type": "code",
      "metadata": {
        "id": "qHwKMLDBXQUj"
      },
      "source": [
        "import keras\n",
        "from keras.datasets import mnist\n",
        "from keras.models import Sequential\n",
        "from keras.layers import Dense\n",
        "\n",
        "import pylab as pl\n",
        "import numpy as np\n",
        "import matplotlib.pyplot as plt\n",
        "\n"
      ],
      "execution_count": 80,
      "outputs": []
    },
    {
      "cell_type": "code",
      "metadata": {
        "colab": {
          "base_uri": "https://localhost:8080/"
        },
        "id": "_b41_84aTdmg",
        "outputId": "c27b97ac-c0e7-4fe6-8a6c-1b473afb52d1"
      },
      "source": [
        "mnist.load_data()"
      ],
      "execution_count": 3,
      "outputs": [
        {
          "output_type": "stream",
          "name": "stdout",
          "text": [
            "Downloading data from https://storage.googleapis.com/tensorflow/tf-keras-datasets/mnist.npz\n",
            "11493376/11490434 [==============================] - 0s 0us/step\n",
            "11501568/11490434 [==============================] - 0s 0us/step\n"
          ]
        },
        {
          "output_type": "execute_result",
          "data": {
            "text/plain": [
              "((array([[[0, 0, 0, ..., 0, 0, 0],\n",
              "          [0, 0, 0, ..., 0, 0, 0],\n",
              "          [0, 0, 0, ..., 0, 0, 0],\n",
              "          ...,\n",
              "          [0, 0, 0, ..., 0, 0, 0],\n",
              "          [0, 0, 0, ..., 0, 0, 0],\n",
              "          [0, 0, 0, ..., 0, 0, 0]],\n",
              "  \n",
              "         [[0, 0, 0, ..., 0, 0, 0],\n",
              "          [0, 0, 0, ..., 0, 0, 0],\n",
              "          [0, 0, 0, ..., 0, 0, 0],\n",
              "          ...,\n",
              "          [0, 0, 0, ..., 0, 0, 0],\n",
              "          [0, 0, 0, ..., 0, 0, 0],\n",
              "          [0, 0, 0, ..., 0, 0, 0]],\n",
              "  \n",
              "         [[0, 0, 0, ..., 0, 0, 0],\n",
              "          [0, 0, 0, ..., 0, 0, 0],\n",
              "          [0, 0, 0, ..., 0, 0, 0],\n",
              "          ...,\n",
              "          [0, 0, 0, ..., 0, 0, 0],\n",
              "          [0, 0, 0, ..., 0, 0, 0],\n",
              "          [0, 0, 0, ..., 0, 0, 0]],\n",
              "  \n",
              "         ...,\n",
              "  \n",
              "         [[0, 0, 0, ..., 0, 0, 0],\n",
              "          [0, 0, 0, ..., 0, 0, 0],\n",
              "          [0, 0, 0, ..., 0, 0, 0],\n",
              "          ...,\n",
              "          [0, 0, 0, ..., 0, 0, 0],\n",
              "          [0, 0, 0, ..., 0, 0, 0],\n",
              "          [0, 0, 0, ..., 0, 0, 0]],\n",
              "  \n",
              "         [[0, 0, 0, ..., 0, 0, 0],\n",
              "          [0, 0, 0, ..., 0, 0, 0],\n",
              "          [0, 0, 0, ..., 0, 0, 0],\n",
              "          ...,\n",
              "          [0, 0, 0, ..., 0, 0, 0],\n",
              "          [0, 0, 0, ..., 0, 0, 0],\n",
              "          [0, 0, 0, ..., 0, 0, 0]],\n",
              "  \n",
              "         [[0, 0, 0, ..., 0, 0, 0],\n",
              "          [0, 0, 0, ..., 0, 0, 0],\n",
              "          [0, 0, 0, ..., 0, 0, 0],\n",
              "          ...,\n",
              "          [0, 0, 0, ..., 0, 0, 0],\n",
              "          [0, 0, 0, ..., 0, 0, 0],\n",
              "          [0, 0, 0, ..., 0, 0, 0]]], dtype=uint8),\n",
              "  array([5, 0, 4, ..., 5, 6, 8], dtype=uint8)),\n",
              " (array([[[0, 0, 0, ..., 0, 0, 0],\n",
              "          [0, 0, 0, ..., 0, 0, 0],\n",
              "          [0, 0, 0, ..., 0, 0, 0],\n",
              "          ...,\n",
              "          [0, 0, 0, ..., 0, 0, 0],\n",
              "          [0, 0, 0, ..., 0, 0, 0],\n",
              "          [0, 0, 0, ..., 0, 0, 0]],\n",
              "  \n",
              "         [[0, 0, 0, ..., 0, 0, 0],\n",
              "          [0, 0, 0, ..., 0, 0, 0],\n",
              "          [0, 0, 0, ..., 0, 0, 0],\n",
              "          ...,\n",
              "          [0, 0, 0, ..., 0, 0, 0],\n",
              "          [0, 0, 0, ..., 0, 0, 0],\n",
              "          [0, 0, 0, ..., 0, 0, 0]],\n",
              "  \n",
              "         [[0, 0, 0, ..., 0, 0, 0],\n",
              "          [0, 0, 0, ..., 0, 0, 0],\n",
              "          [0, 0, 0, ..., 0, 0, 0],\n",
              "          ...,\n",
              "          [0, 0, 0, ..., 0, 0, 0],\n",
              "          [0, 0, 0, ..., 0, 0, 0],\n",
              "          [0, 0, 0, ..., 0, 0, 0]],\n",
              "  \n",
              "         ...,\n",
              "  \n",
              "         [[0, 0, 0, ..., 0, 0, 0],\n",
              "          [0, 0, 0, ..., 0, 0, 0],\n",
              "          [0, 0, 0, ..., 0, 0, 0],\n",
              "          ...,\n",
              "          [0, 0, 0, ..., 0, 0, 0],\n",
              "          [0, 0, 0, ..., 0, 0, 0],\n",
              "          [0, 0, 0, ..., 0, 0, 0]],\n",
              "  \n",
              "         [[0, 0, 0, ..., 0, 0, 0],\n",
              "          [0, 0, 0, ..., 0, 0, 0],\n",
              "          [0, 0, 0, ..., 0, 0, 0],\n",
              "          ...,\n",
              "          [0, 0, 0, ..., 0, 0, 0],\n",
              "          [0, 0, 0, ..., 0, 0, 0],\n",
              "          [0, 0, 0, ..., 0, 0, 0]],\n",
              "  \n",
              "         [[0, 0, 0, ..., 0, 0, 0],\n",
              "          [0, 0, 0, ..., 0, 0, 0],\n",
              "          [0, 0, 0, ..., 0, 0, 0],\n",
              "          ...,\n",
              "          [0, 0, 0, ..., 0, 0, 0],\n",
              "          [0, 0, 0, ..., 0, 0, 0],\n",
              "          [0, 0, 0, ..., 0, 0, 0]]], dtype=uint8),\n",
              "  array([7, 2, 1, ..., 4, 5, 6], dtype=uint8)))"
            ]
          },
          "metadata": {},
          "execution_count": 3
        }
      ]
    },
    {
      "cell_type": "code",
      "metadata": {
        "colab": {
          "base_uri": "https://localhost:8080/"
        },
        "id": "Blrm8rQhXjVF",
        "outputId": "1e3d3640-2046-4d7b-a8e0-d204262eebed"
      },
      "source": [
        "len(mnist.load_data())"
      ],
      "execution_count": 4,
      "outputs": [
        {
          "output_type": "execute_result",
          "data": {
            "text/plain": [
              "2"
            ]
          },
          "metadata": {},
          "execution_count": 4
        }
      ]
    },
    {
      "cell_type": "code",
      "metadata": {
        "id": "VlkvixGjX7bT"
      },
      "source": [
        "(x_train, _), (x_test, _) = mnist.load_data()"
      ],
      "execution_count": 18,
      "outputs": []
    },
    {
      "cell_type": "code",
      "metadata": {
        "colab": {
          "base_uri": "https://localhost:8080/"
        },
        "id": "NLGPQnTeYShY",
        "outputId": "10377add-8043-4f0e-e3d0-bd29556d71aa"
      },
      "source": [
        "# First value is how many training images we have\n",
        "x_train.shape"
      ],
      "execution_count": 19,
      "outputs": [
        {
          "output_type": "execute_result",
          "data": {
            "text/plain": [
              "(60000, 28, 28)"
            ]
          },
          "metadata": {},
          "execution_count": 19
        }
      ]
    },
    {
      "cell_type": "code",
      "metadata": {
        "colab": {
          "base_uri": "https://localhost:8080/"
        },
        "id": "Dyw66TWdUz0p",
        "outputId": "d714c20c-0504-4561-c0e1-0fedb9cc8d74"
      },
      "source": [
        "# First value is how many testing images we have\n",
        "x_test.shape"
      ],
      "execution_count": 20,
      "outputs": [
        {
          "output_type": "execute_result",
          "data": {
            "text/plain": [
              "(10000, 28, 28)"
            ]
          },
          "metadata": {},
          "execution_count": 20
        }
      ]
    },
    {
      "cell_type": "code",
      "metadata": {
        "id": "sx_pNfT2YUH3"
      },
      "source": [
        "nimg, img_row, img_col = x_train.shape"
      ],
      "execution_count": 21,
      "outputs": []
    },
    {
      "cell_type": "code",
      "metadata": {
        "colab": {
          "base_uri": "https://localhost:8080/",
          "height": 265
        },
        "id": "outVN6NNYe8x",
        "outputId": "27378cc5-6646-4950-8b3d-20655697dfa8"
      },
      "source": [
        "pl.imshow(x_train[0]);"
      ],
      "execution_count": 22,
      "outputs": [
        {
          "output_type": "display_data",
          "data": {
            "image/png": "[encoded data removed]",
            "text/plain": [
              "<Figure size 432x288 with 1 Axes>"
            ]
          },
          "metadata": {
            "needs_background": "light"
          }
        }
      ]
    },
    {
      "cell_type": "markdown",
      "metadata": {
        "id": "CcIT9-xDTrz-"
      },
      "source": [
        "This is the first of 60000 training images which we will use in our model to predict a digit."
      ]
    },
    {
      "cell_type": "code",
      "metadata": {
        "colab": {
          "base_uri": "https://localhost:8080/"
        },
        "id": "GpRUVQS1YhS-",
        "outputId": "6d7624a8-64c8-4ebf-8f0d-c96c943f99c8"
      },
      "source": [
        "x_train.max()"
      ],
      "execution_count": 23,
      "outputs": [
        {
          "output_type": "execute_result",
          "data": {
            "text/plain": [
              "255"
            ]
          },
          "metadata": {},
          "execution_count": 23
        }
      ]
    },
    {
      "cell_type": "code",
      "metadata": {
        "colab": {
          "base_uri": "https://localhost:8080/"
        },
        "id": "TSKepOi2ZF9f",
        "outputId": "a61d92b3-71f4-407d-948f-28d969e2f177"
      },
      "source": [
        "x_train.dtype"
      ],
      "execution_count": 24,
      "outputs": [
        {
          "output_type": "execute_result",
          "data": {
            "text/plain": [
              "dtype('uint8')"
            ]
          },
          "metadata": {},
          "execution_count": 24
        }
      ]
    },
    {
      "cell_type": "code",
      "metadata": {
        "id": "GN255XcEZHrz"
      },
      "source": [
        "# Normalize so that image values are now from 0 to 1 instead of 0 to 255\n",
        "\n",
        "# Same normalization for the training and test set\n",
        "x_train = (x_train.astype(float) / 255)\n",
        "\n",
        "# Normalize and reshape x_test also\n",
        "x_test = (x_test.astype(float) / 255)"
      ],
      "execution_count": 25,
      "outputs": []
    },
    {
      "cell_type": "code",
      "metadata": {
        "colab": {
          "base_uri": "https://localhost:8080/"
        },
        "id": "QBacXVUZVQGW",
        "outputId": "74a4bcdc-ebfe-4239-c1df-0e5be1e62a85"
      },
      "source": [
        "# Make sure normalization worked for training set\n",
        "x_train.min(), x_train.max()"
      ],
      "execution_count": 28,
      "outputs": [
        {
          "output_type": "execute_result",
          "data": {
            "text/plain": [
              "(0.0, 1.0)"
            ]
          },
          "metadata": {},
          "execution_count": 28
        }
      ]
    },
    {
      "cell_type": "code",
      "metadata": {
        "colab": {
          "base_uri": "https://localhost:8080/"
        },
        "id": "W4ZBGHs0VTyN",
        "outputId": "c87a4976-bce3-48dc-889c-081a1e472935"
      },
      "source": [
        "# Make sure normalization is the same for the testing set\n",
        "x_test.min(), x_test.max()"
      ],
      "execution_count": 29,
      "outputs": [
        {
          "output_type": "execute_result",
          "data": {
            "text/plain": [
              "(0.0, 1.0)"
            ]
          },
          "metadata": {},
          "execution_count": 29
        }
      ]
    },
    {
      "cell_type": "code",
      "metadata": {
        "colab": {
          "base_uri": "https://localhost:8080/"
        },
        "id": "8HvuO3qTZb5p",
        "outputId": "4cba9b45-de58-4c51-ef7c-c2ada2ec0c14"
      },
      "source": [
        "x_train.reshape(nimg, img_row*img_col).shape"
      ],
      "execution_count": 30,
      "outputs": [
        {
          "output_type": "execute_result",
          "data": {
            "text/plain": [
              "(60000, 784)"
            ]
          },
          "metadata": {},
          "execution_count": 30
        }
      ]
    },
    {
      "cell_type": "code",
      "metadata": {
        "id": "RXt9PSoGecbX",
        "colab": {
          "base_uri": "https://localhost:8080/"
        },
        "outputId": "3c551101-4cd9-474f-a146-8e72a27bb027"
      },
      "source": [
        "# Reshape training set so that it is one-dimensional for a single image\n",
        "# (can now be input into our model)\n",
        "\n",
        "x_train = x_train.reshape(nimg, img_row*img_col)\n",
        "x_train.shape"
      ],
      "execution_count": 31,
      "outputs": [
        {
          "output_type": "execute_result",
          "data": {
            "text/plain": [
              "(60000, 784)"
            ]
          },
          "metadata": {},
          "execution_count": 31
        }
      ]
    },
    {
      "cell_type": "code",
      "metadata": {
        "colab": {
          "base_uri": "https://localhost:8080/"
        },
        "id": "QDC_YlbGUuYn",
        "outputId": "3813b219-44cc-4efd-ef61-060044144223"
      },
      "source": [
        "x_test.shape"
      ],
      "execution_count": 32,
      "outputs": [
        {
          "output_type": "execute_result",
          "data": {
            "text/plain": [
              "(10000, 28, 28)"
            ]
          },
          "metadata": {},
          "execution_count": 32
        }
      ]
    },
    {
      "cell_type": "code",
      "metadata": {
        "id": "NxxChGG_efvt"
      },
      "source": [
        "# Also reshape testing set so it is one-dimensional for a single image\n",
        "x_test = x_test.reshape(x_test.shape[0], img_row*img_col)"
      ],
      "execution_count": 33,
      "outputs": []
    },
    {
      "cell_type": "code",
      "metadata": {
        "id": "TEh7feqZZk0H"
      },
      "source": [
        "# The y_train data must be a copy of our x_train data\n",
        "# This is because our model is an encoder\n",
        "# (encoder = transform data to a lower dimensional representation)\n",
        "y_train = x_train.copy()"
      ],
      "execution_count": 34,
      "outputs": []
    },
    {
      "cell_type": "code",
      "metadata": {
        "id": "hpz9XSZcbn56"
      },
      "source": [
        "# Creates model\n",
        "model_digits = Sequential()"
      ],
      "execution_count": 35,
      "outputs": []
    },
    {
      "cell_type": "code",
      "metadata": {
        "id": "K1YdQHdmcTU_"
      },
      "source": [
        "# Add model layers\n",
        "# Here we encode 28^2 = 784 dimensions down to 64 dimensions then de-encode\n",
        "\n",
        "# Encoding...\n",
        "#model_digits.add(Dense(256, activation=\"relu\", input_dim=img_row*img_col))\n",
        "model_digits.add(Dense(128, activation=\"relu\", input_dim=img_row*img_col))\n",
        "model_digits.add(Dense(64, activation=\"relu\"))\n",
        "\n",
        "# De-encoding... (last activation must be linear)\n",
        "model_digits.add(Dense(128, activation=\"relu\"))\n",
        "model_digits.add(Dense(img_row*img_col, activation=\"linear\"))"
      ],
      "execution_count": 36,
      "outputs": []
    },
    {
      "cell_type": "code",
      "metadata": {
        "id": "ZPhicGZRdSxg"
      },
      "source": [
        "# Choose optimizer and loss function\n",
        "# Can change these to try getting better results for our FFNN\n",
        "# From slides, best combo looks like opt=adadelta and loss=binary_crossentropy\n",
        "# where activation function must be \"sigmoid\" instead of \"relu\"\n",
        "\n",
        "model_digits.compile(optimizer=\"adadelta\", loss=\"mean_squared_error\")"
      ],
      "execution_count": 37,
      "outputs": []
    },
    {
      "cell_type": "code",
      "metadata": {
        "colab": {
          "base_uri": "https://localhost:8080/"
        },
        "id": "t6qFENUMdmb4",
        "outputId": "7eee0e34-77ef-4b4f-f69a-85da9aac1e71"
      },
      "source": [
        "model_digits.summary()"
      ],
      "execution_count": 38,
      "outputs": [
        {
          "output_type": "stream",
          "name": "stdout",
          "text": [
            "Model: \"sequential\"\n",
            "_________________________________________________________________\n",
            " Layer (type)                Output Shape              Param #   \n",
            "=================================================================\n",
            " dense (Dense)               (None, 128)               100480    \n",
            "                                                                 \n",
            " dense_1 (Dense)             (None, 64)                8256      \n",
            "                                                                 \n",
            " dense_2 (Dense)             (None, 128)               8320      \n",
            "                                                                 \n",
            " dense_3 (Dense)             (None, 784)               101136    \n",
            "                                                                 \n",
            "=================================================================\n",
            "Total params: 218,192\n",
            "Trainable params: 218,192\n",
            "Non-trainable params: 0\n",
            "_________________________________________________________________\n"
          ]
        }
      ]
    },
    {
      "cell_type": "code",
      "metadata": {
        "colab": {
          "base_uri": "https://localhost:8080/"
        },
        "id": "fYCzpCkadqg0",
        "outputId": "47f30686-c36d-49b7-c0bc-5b32cb605c78"
      },
      "source": [
        "# Architecture is x_train x_train instead of x_train y_train bc it's an encoder\n",
        "ffnn_digit=model_digits.fit(x_train, x_train, validation_data=(x_test, x_test),\n",
        "                            epochs=20, batch_size=100, verbose=1)"
      ],
      "execution_count": 60,
      "outputs": [
        {
          "output_type": "stream",
          "name": "stdout",
          "text": [
            "Epoch 1/20\n",
            "600/600 [==============================] - 2s 4ms/step - loss: 0.1051 - val_loss: 0.1067\n",
            "Epoch 2/20\n",
            "600/600 [==============================] - 2s 4ms/step - loss: 0.1049 - val_loss: 0.1065\n",
            "Epoch 3/20\n",
            "600/600 [==============================] - 2s 4ms/step - loss: 0.1046 - val_loss: 0.1063\n",
            "Epoch 4/20\n",
            "600/600 [==============================] - 2s 4ms/step - loss: 0.1044 - val_loss: 0.1060\n",
            "Epoch 5/20\n",
            "600/600 [==============================] - 2s 4ms/step - loss: 0.1042 - val_loss: 0.1058\n",
            "Epoch 6/20\n",
            "600/600 [==============================] - 2s 4ms/step - loss: 0.1039 - val_loss: 0.1055\n",
            "Epoch 7/20\n",
            "600/600 [==============================] - 2s 4ms/step - loss: 0.1037 - val_loss: 0.1053\n",
            "Epoch 8/20\n",
            "600/600 [==============================] - 2s 4ms/step - loss: 0.1034 - val_loss: 0.1050\n",
            "Epoch 9/20\n",
            "600/600 [==============================] - 2s 4ms/step - loss: 0.1032 - val_loss: 0.1048\n",
            "Epoch 10/20\n",
            "600/600 [==============================] - 2s 4ms/step - loss: 0.1029 - val_loss: 0.1045\n",
            "Epoch 11/20\n",
            "600/600 [==============================] - 2s 4ms/step - loss: 0.1027 - val_loss: 0.1042\n",
            "Epoch 12/20\n",
            "600/600 [==============================] - 2s 4ms/step - loss: 0.1024 - val_loss: 0.1040\n",
            "Epoch 13/20\n",
            "600/600 [==============================] - 2s 4ms/step - loss: 0.1022 - val_loss: 0.1037\n",
            "Epoch 14/20\n",
            "600/600 [==============================] - 2s 4ms/step - loss: 0.1019 - val_loss: 0.1034\n",
            "Epoch 15/20\n",
            "600/600 [==============================] - 2s 4ms/step - loss: 0.1016 - val_loss: 0.1031\n",
            "Epoch 16/20\n",
            "600/600 [==============================] - 2s 4ms/step - loss: 0.1013 - val_loss: 0.1028\n",
            "Epoch 17/20\n",
            "600/600 [==============================] - 2s 4ms/step - loss: 0.1011 - val_loss: 0.1026\n",
            "Epoch 18/20\n",
            "600/600 [==============================] - 2s 4ms/step - loss: 0.1008 - val_loss: 0.1023\n",
            "Epoch 19/20\n",
            "600/600 [==============================] - 2s 4ms/step - loss: 0.1005 - val_loss: 0.1020\n",
            "Epoch 20/20\n",
            "600/600 [==============================] - 2s 4ms/step - loss: 0.1002 - val_loss: 0.1016\n"
          ]
        }
      ]
    },
    {
      "cell_type": "code",
      "metadata": {
        "colab": {
          "base_uri": "https://localhost:8080/"
        },
        "id": "482foTozfFjN",
        "outputId": "7a7c822c-1280-428f-f517-72dabe7ad64a"
      },
      "source": [
        "ffnn_digit.history"
      ],
      "execution_count": 63,
      "outputs": [
        {
          "output_type": "execute_result",
          "data": {
            "text/plain": [
              "{'loss': [0.10510491579771042,\n",
              "  0.10487312078475952,\n",
              "  0.10463941842317581,\n",
              "  0.1044037789106369,\n",
              "  0.10416600853204727,\n",
              "  0.10392565280199051,\n",
              "  0.10368286818265915,\n",
              "  0.10343712568283081,\n",
              "  0.10318828374147415,\n",
              "  0.10293624550104141,\n",
              "  0.10268082469701767,\n",
              "  0.10242164880037308,\n",
              "  0.10215868800878525,\n",
              "  0.10189181566238403,\n",
              "  0.1016206368803978,\n",
              "  0.10134485363960266,\n",
              "  0.10106454789638519,\n",
              "  0.10077937692403793,\n",
              "  0.1004890650510788,\n",
              "  0.10019353032112122],\n",
              " 'val_loss': [0.10673973709344864,\n",
              "  0.10650079697370529,\n",
              "  0.10625989735126495,\n",
              "  0.10601673275232315,\n",
              "  0.10577107965946198,\n",
              "  0.10552280396223068,\n",
              "  0.1052715852856636,\n",
              "  0.10501721501350403,\n",
              "  0.104759581387043,\n",
              "  0.10449840128421783,\n",
              "  0.10423348098993301,\n",
              "  0.10396457463502884,\n",
              "  0.10369154065847397,\n",
              "  0.10341407358646393,\n",
              "  0.10313195735216141,\n",
              "  0.1028449609875679,\n",
              "  0.10255298018455505,\n",
              "  0.10225570946931839,\n",
              "  0.10195300728082657,\n",
              "  0.10164463520050049]}"
            ]
          },
          "metadata": {},
          "execution_count": 63
        }
      ]
    },
    {
      "cell_type": "code",
      "metadata": {
        "id": "z4YcVft8fS24"
      },
      "source": [
        "out_loss = ffnn_digit.history['loss']\n",
        "out_val_loss = ffnn_digit.history['val_loss']"
      ],
      "execution_count": 65,
      "outputs": []
    },
    {
      "cell_type": "code",
      "metadata": {
        "colab": {
          "base_uri": "https://localhost:8080/"
        },
        "id": "ObDVC5DLf-Fp",
        "outputId": "4773af85-5d11-486e-ac0f-c7f6c96dcfc5"
      },
      "source": [
        "len(out_loss), len(out_val_loss)"
      ],
      "execution_count": 67,
      "outputs": [
        {
          "output_type": "execute_result",
          "data": {
            "text/plain": [
              "(20, 20)"
            ]
          },
          "metadata": {},
          "execution_count": 67
        }
      ]
    },
    {
      "cell_type": "code",
      "metadata": {
        "id": "GxQ-tvwpgKi9"
      },
      "source": [
        "epoch_num = np.linspace(1, len(out_loss), len(out_loss), endpoint=True)"
      ],
      "execution_count": 71,
      "outputs": []
    },
    {
      "cell_type": "code",
      "metadata": {
        "colab": {
          "base_uri": "https://localhost:8080/"
        },
        "id": "B4Ju7jlcgl1o",
        "outputId": "3e068ad1-d86f-47ae-ee9e-56ad87af96ba"
      },
      "source": [
        "# Make sure epoch number is defined correctly\n",
        "epoch_num"
      ],
      "execution_count": 75,
      "outputs": [
        {
          "output_type": "execute_result",
          "data": {
            "text/plain": [
              "array([ 1.,  2.,  3.,  4.,  5.,  6.,  7.,  8.,  9., 10., 11., 12., 13.,\n",
              "       14., 15., 16., 17., 18., 19., 20.])"
            ]
          },
          "metadata": {},
          "execution_count": 75
        }
      ]
    },
    {
      "cell_type": "code",
      "metadata": {
        "id": "lgmyW9gHgsAH"
      },
      "source": [
        "out_loss = np.array(out_loss)\n",
        "out_val_loss = np.array(out_val_loss)"
      ],
      "execution_count": 78,
      "outputs": []
    },
    {
      "cell_type": "code",
      "metadata": {
        "colab": {
          "base_uri": "https://localhost:8080/"
        },
        "id": "amvBzKRugzHg",
        "outputId": "cf6ecbdf-9937-45ae-de76-732e0b01f2f0"
      },
      "source": [
        "out_loss, out_val_loss"
      ],
      "execution_count": 79,
      "outputs": [
        {
          "output_type": "execute_result",
          "data": {
            "text/plain": [
              "(array([0.10510492, 0.10487312, 0.10463942, 0.10440378, 0.10416601,\n",
              "        0.10392565, 0.10368287, 0.10343713, 0.10318828, 0.10293625,\n",
              "        0.10268082, 0.10242165, 0.10215869, 0.10189182, 0.10162064,\n",
              "        0.10134485, 0.10106455, 0.10077938, 0.10048907, 0.10019353]),\n",
              " array([0.10673974, 0.1065008 , 0.1062599 , 0.10601673, 0.10577108,\n",
              "        0.1055228 , 0.10527159, 0.10501722, 0.10475958, 0.1044984 ,\n",
              "        0.10423348, 0.10396457, 0.10369154, 0.10341407, 0.10313196,\n",
              "        0.10284496, 0.10255298, 0.10225571, 0.10195301, 0.10164464]))"
            ]
          },
          "metadata": {},
          "execution_count": 79
        }
      ]
    },
    {
      "cell_type": "code",
      "metadata": {
        "colab": {
          "base_uri": "https://localhost:8080/",
          "height": 614
        },
        "id": "Y_oHqo5bhAFm",
        "outputId": "26f9932a-93cc-4c39-d432-541802f1232f"
      },
      "source": [
        "plt.figure(figsize=(10, 10))\n",
        "\n",
        "plt.plot(epoch_num, out_loss, color='red', linestyle='solid',\n",
        "         label='train loss')\n",
        "plt.plot(epoch_num, out_val_loss, color='blue', linestyle='solid',\n",
        "         label='val loss')\n",
        "\n",
        "plt.xlabel('epoch', fontsize=18)\n",
        "plt.ylabel('loss', fontsize=18)\n",
        "plt.legend(loc='best', fontsize=18)\n",
        "plt.show()"
      ],
      "execution_count": 81,
      "outputs": [
        {
          "output_type": "display_data",
          "data": {
            "image/png": "[encoded data removed]",
            "text/plain": [
              "<Figure size 720x720 with 1 Axes>"
            ]
          },
          "metadata": {
            "needs_background": "light"
          }
        }
      ]
    },
    {
      "cell_type": "markdown",
      "metadata": {
        "id": "KZuMBg-hiOYP"
      },
      "source": [
        "Apparently we still have a lot of training to do (I think we need more epochs)."
      ]
    },
    {
      "cell_type": "code",
      "metadata": {
        "id": "lMMgsOf8iKee"
      },
      "source": [
        ""
      ],
      "execution_count": null,
      "outputs": []
    }
  ]
}