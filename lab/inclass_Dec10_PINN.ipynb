{
  "nbformat": 4,
  "nbformat_minor": 0,
  "metadata": {
    "colab": {
      "name": "inclass_Dec10_PINN.ipynb",
      "provenance": [],
      "collapsed_sections": [],
      "authorship_tag": "ABX9TyMqpap2aXcsnNe9m2/ALLu3",
      "include_colab_link": true
    },
    "kernelspec": {
      "name": "python3",
      "display_name": "Python 3"
    },
    "language_info": {
      "name": "python"
    }
  },
  "cells": [
    {
      "cell_type": "markdown",
      "metadata": {
        "id": "view-in-github",
        "colab_type": "text"
      },
      "source": [
        "<a href=\"https://colab.research.google.com/github/bflaggs/DSPS_BFlaggs/blob/main/lab/inclass_Dec10_PINN.ipynb\" target=\"_parent\"><img src=\"https://colab.research.google.com/assets/colab-badge.svg\" alt=\"Open In Colab\"/></a>"
      ]
    },
    {
      "cell_type": "code",
      "execution_count": 1,
      "metadata": {
        "id": "xyfD-FGH-xfX"
      },
      "outputs": [],
      "source": [
        "import tensorflow as tf\n",
        "import numpy as np"
      ]
    },
    {
      "cell_type": "code",
      "source": [
        "import scipy\n",
        "from scipy import io\n",
        "from scipy.interpolate import griddata\n",
        "import pylab as pl"
      ],
      "metadata": {
        "id": "rW5jtZ-B-_sH"
      },
      "execution_count": 2,
      "outputs": []
    },
    {
      "cell_type": "code",
      "source": [
        "!wget https://github.com/maziarraissi/PINNs/raw/master/appendix/Data/burgers_shock.mat"
      ],
      "metadata": {
        "colab": {
          "base_uri": "https://localhost:8080/"
        },
        "id": "oTbeC2Ay_Vpo",
        "outputId": "a63d5d29-fe96-4e69-db49-0f0f54b9db75"
      },
      "execution_count": 3,
      "outputs": [
        {
          "output_type": "stream",
          "name": "stdout",
          "text": [
            "--2021-12-10 20:16:42--  https://github.com/maziarraissi/PINNs/raw/master/appendix/Data/burgers_shock.mat\n",
            "Resolving github.com (github.com)... 140.82.114.4\n",
            "Connecting to github.com (github.com)|140.82.114.4|:443... connected.\n",
            "HTTP request sent, awaiting response... 302 Found\n",
            "Location: https://raw.githubusercontent.com/maziarraissi/PINNs/master/appendix/Data/burgers_shock.mat [following]\n",
            "--2021-12-10 20:16:42--  https://raw.githubusercontent.com/maziarraissi/PINNs/master/appendix/Data/burgers_shock.mat\n",
            "Resolving raw.githubusercontent.com (raw.githubusercontent.com)... 185.199.110.133, 185.199.109.133, 185.199.111.133, ...\n",
            "Connecting to raw.githubusercontent.com (raw.githubusercontent.com)|185.199.110.133|:443... connected.\n",
            "HTTP request sent, awaiting response... 200 OK\n",
            "Length: 207944 (203K) [application/octet-stream]\n",
            "Saving to: ‘burgers_shock.mat’\n",
            "\n",
            "\rburgers_shock.mat     0%[                    ]       0  --.-KB/s               \rburgers_shock.mat   100%[===================>] 203.07K  --.-KB/s    in 0.02s   \n",
            "\n",
            "2021-12-10 20:16:42 (8.23 MB/s) - ‘burgers_shock.mat’ saved [207944/207944]\n",
            "\n"
          ]
        }
      ]
    },
    {
      "cell_type": "code",
      "source": [
        "### what is the solution that we want? read in the data\n",
        "data = scipy.io.loadmat('burgers_shock.mat')\n",
        "data.keys()\n",
        "t = data['t'].flatten()\n",
        "x = data['x'].flatten()\n",
        "Z = np.real(data['usol'])\n",
        "print(t.shape, x.shape, Z.shape)\n",
        "ax = pl.figure(figsize=(5,5)).add_subplot(111)\n",
        "pl.imshow(Z[::-1],extent=[0,1,-1,1])\n",
        "ax.set_xlabel(\"t\")\n",
        "ax.set_ylabel(\"x\");\n",
        "pl.axes().set_aspect(0.3)\n",
        "pl.colorbar();\n"
      ],
      "metadata": {
        "colab": {
          "base_uri": "https://localhost:8080/",
          "height": 375
        },
        "id": "yzj4Q473_aMQ",
        "outputId": "ff61086e-1a6a-4422-9e10-37dd49e34706"
      },
      "execution_count": 5,
      "outputs": [
        {
          "output_type": "stream",
          "name": "stdout",
          "text": [
            "(100,) (256,) (256, 100)\n"
          ]
        },
        {
          "output_type": "stream",
          "name": "stderr",
          "text": [
            "/usr/local/lib/python3.7/dist-packages/ipykernel_launcher.py:12: MatplotlibDeprecationWarning: Adding an axes using the same arguments as a previous axes currently reuses the earlier instance.  In a future version, a new instance will always be created and returned.  Meanwhile, this warning can be suppressed, and the future behavior ensured, by passing a unique label to each axes instance.\n",
            "  if sys.path[0] == '':\n"
          ]
        },
        {
          "output_type": "display_data",
          "data": {
            "image/png": "[encoded data removed]",
            "text/plain": [
              "<Figure size 360x360 with 2 Axes>"
            ]
          },
          "metadata": {
            "needs_background": "light"
          }
        }
      ]
    },
    {
      "cell_type": "code",
      "source": [
        "tf.random.set_seed(123)"
      ],
      "metadata": {
        "id": "IBZOFiEI_dOS"
      },
      "execution_count": 6,
      "outputs": []
    },
    {
      "cell_type": "code",
      "source": [
        "pi = tf.constant(np.pi, dtype=\"float32\")"
      ],
      "metadata": {
        "id": "S0FHoAoqAEuO"
      },
      "execution_count": 7,
      "outputs": []
    },
    {
      "cell_type": "code",
      "source": [
        "def fun_u_0(x):\n",
        "  return -tf.sin(x * pi)\n",
        "\n",
        "def fun_u_b(t, x):\n",
        "  return tf.zeros((t.shape[0], 1), dtype=\"float32\")\n",
        "\n",
        "def fun_res(u, u_t, u_x, u_xx):\n",
        "  return tf.abs(u_t + u * u_x - 0.01 / pi * u_xx)"
      ],
      "metadata": {
        "id": "faMFB5F3ASIc"
      },
      "execution_count": 23,
      "outputs": []
    },
    {
      "cell_type": "code",
      "source": [
        "n_b = 50\n",
        "n_0 = 50\n",
        "n_r = 10000\n",
        "#boundaries\n",
        "tmin = 0.\n",
        "tmax = 1.\n",
        "xmin = -1.\n",
        "xmax = 1.\n"
      ],
      "metadata": {
        "id": "WqGMG3YaBSc1"
      },
      "execution_count": 24,
      "outputs": []
    },
    {
      "cell_type": "code",
      "source": [
        "t_0 = tf.ones((n_0, 1), dtype=\"float32\") * tmin\n",
        "x_0 = tf.random.uniform((n_0, 1), xmin, xmax, dtype=\"float32\")\n",
        "X_0 = tf.concat([t_0, x_0], axis=1)\n",
        "X_0\n"
      ],
      "metadata": {
        "colab": {
          "base_uri": "https://localhost:8080/"
        },
        "id": "9YtIbxfhBhDa",
        "outputId": "ec45fedf-677f-454b-d80e-29334c05ff68"
      },
      "execution_count": 25,
      "outputs": [
        {
          "output_type": "execute_result",
          "data": {
            "text/plain": [
              "<tf.Tensor: shape=(50, 2), dtype=float32, numpy=\n",
              "array([[ 0.        ,  0.9319067 ],\n",
              "       [ 0.        ,  0.40087605],\n",
              "       [ 0.        , -0.564904  ],\n",
              "       [ 0.        , -0.86948204],\n",
              "       [ 0.        , -0.56437063],\n",
              "       [ 0.        , -0.58077   ],\n",
              "       [ 0.        ,  0.44244576],\n",
              "       [ 0.        ,  0.00857925],\n",
              "       [ 0.        ,  0.47141027],\n",
              "       [ 0.        , -0.8666265 ],\n",
              "       [ 0.        , -0.3034687 ],\n",
              "       [ 0.        , -0.46687078],\n",
              "       [ 0.        , -0.3780737 ],\n",
              "       [ 0.        ,  0.23899245],\n",
              "       [ 0.        ,  0.01892614],\n",
              "       [ 0.        , -0.39019704],\n",
              "       [ 0.        ,  0.08264518],\n",
              "       [ 0.        ,  0.8335893 ],\n",
              "       [ 0.        , -0.87761855],\n",
              "       [ 0.        ,  0.7168634 ],\n",
              "       [ 0.        , -0.92907166],\n",
              "       [ 0.        , -0.7528722 ],\n",
              "       [ 0.        , -0.36432624],\n",
              "       [ 0.        ,  0.9294741 ],\n",
              "       [ 0.        , -0.1643157 ],\n",
              "       [ 0.        ,  0.7618983 ],\n",
              "       [ 0.        , -0.6778245 ],\n",
              "       [ 0.        , -0.06133485],\n",
              "       [ 0.        , -0.5497029 ],\n",
              "       [ 0.        ,  0.86460257],\n",
              "       [ 0.        , -0.66749763],\n",
              "       [ 0.        , -0.59889483],\n",
              "       [ 0.        , -0.3182397 ],\n",
              "       [ 0.        ,  0.7261059 ],\n",
              "       [ 0.        ,  0.73864436],\n",
              "       [ 0.        , -0.74953437],\n",
              "       [ 0.        , -0.24154496],\n",
              "       [ 0.        ,  0.07166815],\n",
              "       [ 0.        , -0.38349771],\n",
              "       [ 0.        ,  0.44803238],\n",
              "       [ 0.        ,  0.13462996],\n",
              "       [ 0.        , -0.31956077],\n",
              "       [ 0.        ,  0.69138503],\n",
              "       [ 0.        , -0.27249694],\n",
              "       [ 0.        , -0.6606996 ],\n",
              "       [ 0.        , -0.724627  ],\n",
              "       [ 0.        , -0.9157295 ],\n",
              "       [ 0.        ,  0.30914235],\n",
              "       [ 0.        ,  0.04929852],\n",
              "       [ 0.        , -0.06886101]], dtype=float32)>"
            ]
          },
          "metadata": {},
          "execution_count": 25
        }
      ]
    },
    {
      "cell_type": "code",
      "source": [
        "u_0 = fun_u_0(x_0)\n",
        "u_0"
      ],
      "metadata": {
        "colab": {
          "base_uri": "https://localhost:8080/"
        },
        "id": "GKsEI5lIBuxw",
        "outputId": "21e25473-d27b-4790-98bd-4f7789bbf366"
      },
      "execution_count": 26,
      "outputs": [
        {
          "output_type": "execute_result",
          "data": {
            "text/plain": [
              "<tf.Tensor: shape=(50, 1), dtype=float32, numpy=\n",
              "array([[-0.21229336],\n",
              "       [-0.9519034 ],\n",
              "       [ 0.9792839 ],\n",
              "       [ 0.3986406 ],\n",
              "       [ 0.9796218 ],\n",
              "       [ 0.9679787 ],\n",
              "       [-0.983698  ],\n",
              "       [-0.02694926],\n",
              "       [-0.9959691 ],\n",
              "       [ 0.4068518 ],\n",
              "       [ 0.81537414],\n",
              "       [ 0.99458873],\n",
              "       [ 0.9275317 ],\n",
              "       [-0.68223625],\n",
              "       [-0.05942321],\n",
              "       [ 0.9410903 ],\n",
              "       [-0.25673023],\n",
              "       [-0.49930325],\n",
              "       [ 0.3750702 ],\n",
              "       [-0.7767568 ],\n",
              "       [ 0.22098841],\n",
              "       [ 0.70069754],\n",
              "       [ 0.9105302 ],\n",
              "       [-0.21975516],\n",
              "       [ 0.49359015],\n",
              "       [-0.6801877 ],\n",
              "       [ 0.8479703 ],\n",
              "       [ 0.19149894],\n",
              "       [ 0.9878339 ],\n",
              "       [-0.41265187],\n",
              "       [ 0.8647172 ],\n",
              "       [ 0.95212364],\n",
              "       [ 0.84135187],\n",
              "       [-0.7581449 ],\n",
              "       [-0.7318774 ],\n",
              "       [ 0.7081403 ],\n",
              "       [ 0.6880772 ],\n",
              "       [-0.22325467],\n",
              "       [ 0.9337654 ],\n",
              "       [-0.9867025 ],\n",
              "       [-0.4104546 ],\n",
              "       [ 0.84358776],\n",
              "       [-0.8246269 ],\n",
              "       [ 0.75527555],\n",
              "       [ 0.87524575],\n",
              "       [ 0.76116633],\n",
              "       [ 0.26166168],\n",
              "       [-0.82556313],\n",
              "       [-0.15425748],\n",
              "       [ 0.21464978]], dtype=float32)>"
            ]
          },
          "metadata": {},
          "execution_count": 26
        }
      ]
    },
    {
      "cell_type": "code",
      "source": [
        "pl.plot(x_0, u_0, '.')"
      ],
      "metadata": {
        "colab": {
          "base_uri": "https://localhost:8080/",
          "height": 282
        },
        "id": "RBZQOrUlB41d",
        "outputId": "f2fef06e-c2c7-41d6-e5b9-f5bb8c5ba08c"
      },
      "execution_count": 27,
      "outputs": [
        {
          "output_type": "execute_result",
          "data": {
            "text/plain": [
              "[<matplotlib.lines.Line2D at 0x7f5ce8d41ad0>]"
            ]
          },
          "metadata": {},
          "execution_count": 27
        },
        {
          "output_type": "display_data",
          "data": {
            "image/png": "[encoded data removed]",
            "text/plain": [
              "<Figure size 432x288 with 1 Axes>"
            ]
          },
          "metadata": {
            "needs_background": "light"
          }
        }
      ]
    },
    {
      "cell_type": "code",
      "source": [
        "pl.scatter(t_0, x_0, c=u_0, marker='o')\n",
        "pl.xlabel(\"t\")\n",
        "pl.ylabel(\"x\");"
      ],
      "metadata": {
        "colab": {
          "base_uri": "https://localhost:8080/",
          "height": 281
        },
        "id": "9q2hMJznB8XJ",
        "outputId": "b57464fb-4d1e-4a1e-f62b-2d0ff0f0f0ee"
      },
      "execution_count": 28,
      "outputs": [
        {
          "output_type": "display_data",
          "data": {
            "image/png": "[encoded data removed]",
            "text/plain": [
              "<Figure size 432x288 with 1 Axes>"
            ]
          },
          "metadata": {
            "needs_background": "light"
          }
        }
      ]
    },
    {
      "cell_type": "code",
      "source": [
        "t_b = tf.random.uniform((n_b, 1), 0, 1, dtype=\"float32\")\n",
        "t_b"
      ],
      "metadata": {
        "colab": {
          "base_uri": "https://localhost:8080/"
        },
        "id": "g74InAnLCNcb",
        "outputId": "105fc6aa-36c1-4a53-d066-0259ee3d08e7"
      },
      "execution_count": 29,
      "outputs": [
        {
          "output_type": "execute_result",
          "data": {
            "text/plain": [
              "<tf.Tensor: shape=(50, 1), dtype=float32, numpy=\n",
              "array([[0.50453794],\n",
              "       [0.80018854],\n",
              "       [0.06657732],\n",
              "       [0.63224196],\n",
              "       [0.3656509 ],\n",
              "       [0.08347201],\n",
              "       [0.81680655],\n",
              "       [0.18777943],\n",
              "       [0.04353368],\n",
              "       [0.9307742 ],\n",
              "       [0.14468765],\n",
              "       [0.53515923],\n",
              "       [0.07987499],\n",
              "       [0.276155  ],\n",
              "       [0.32227087],\n",
              "       [0.07559466],\n",
              "       [0.12844586],\n",
              "       [0.63172746],\n",
              "       [0.8620416 ],\n",
              "       [0.9421437 ],\n",
              "       [0.7063904 ],\n",
              "       [0.01097572],\n",
              "       [0.6761155 ],\n",
              "       [0.969728  ],\n",
              "       [0.02564728],\n",
              "       [0.0946182 ],\n",
              "       [0.42594278],\n",
              "       [0.25619912],\n",
              "       [0.17769372],\n",
              "       [0.2370174 ],\n",
              "       [0.02813125],\n",
              "       [0.35717595],\n",
              "       [0.82057834],\n",
              "       [0.15759766],\n",
              "       [0.37379944],\n",
              "       [0.85893726],\n",
              "       [0.27323818],\n",
              "       [0.77470803],\n",
              "       [0.972677  ],\n",
              "       [0.30876338],\n",
              "       [0.29690623],\n",
              "       [0.43214536],\n",
              "       [0.38206983],\n",
              "       [0.5438458 ],\n",
              "       [0.48745203],\n",
              "       [0.94450283],\n",
              "       [0.41737437],\n",
              "       [0.50279665],\n",
              "       [0.9453926 ],\n",
              "       [0.9854361 ]], dtype=float32)>"
            ]
          },
          "metadata": {},
          "execution_count": 29
        }
      ]
    },
    {
      "cell_type": "code",
      "source": [
        "t_b = tf.random.uniform((n_b, 1), tmin, tmax, dtype=\"float32\")\n",
        "x_b = xmin + (xmax - xmin) * tf.keras.backend.random_bernoulli((n_b, 1), 0.5, dtype=\"float32\")\n",
        "X_b = tf.concat([t_b, x_b], axis=1)\n",
        "X_b\n"
      ],
      "metadata": {
        "colab": {
          "base_uri": "https://localhost:8080/"
        },
        "id": "tIrlHHo2Cbd6",
        "outputId": "8da89a8b-d41d-4531-aae5-91ea5b96bd6d"
      },
      "execution_count": 30,
      "outputs": [
        {
          "output_type": "execute_result",
          "data": {
            "text/plain": [
              "<tf.Tensor: shape=(50, 2), dtype=float32, numpy=\n",
              "array([[ 0.9928107 , -1.        ],\n",
              "       [ 0.8505622 , -1.        ],\n",
              "       [ 0.10853839,  1.        ],\n",
              "       [ 0.76495934,  1.        ],\n",
              "       [ 0.12983155,  1.        ],\n",
              "       [ 0.3917302 , -1.        ],\n",
              "       [ 0.6040187 , -1.        ],\n",
              "       [ 0.43188357,  1.        ],\n",
              "       [ 0.8952024 ,  1.        ],\n",
              "       [ 0.73703825, -1.        ],\n",
              "       [ 0.3009684 ,  1.        ],\n",
              "       [ 0.80468357,  1.        ],\n",
              "       [ 0.2781657 ,  1.        ],\n",
              "       [ 0.03482544,  1.        ],\n",
              "       [ 0.8891907 ,  1.        ],\n",
              "       [ 0.23943079,  1.        ],\n",
              "       [ 0.31685317, -1.        ],\n",
              "       [ 0.15409255,  1.        ],\n",
              "       [ 0.60174644,  1.        ],\n",
              "       [ 0.56749403,  1.        ],\n",
              "       [ 0.801491  , -1.        ],\n",
              "       [ 0.26008558, -1.        ],\n",
              "       [ 0.15121663,  1.        ],\n",
              "       [ 0.03992164,  1.        ],\n",
              "       [ 0.9489281 ,  1.        ],\n",
              "       [ 0.64156866, -1.        ],\n",
              "       [ 0.09132087, -1.        ],\n",
              "       [ 0.90058494, -1.        ],\n",
              "       [ 0.47728086,  1.        ],\n",
              "       [ 0.34081972, -1.        ],\n",
              "       [ 0.8716066 , -1.        ],\n",
              "       [ 0.5226848 , -1.        ],\n",
              "       [ 0.48735476,  1.        ],\n",
              "       [ 0.9350748 ,  1.        ],\n",
              "       [ 0.98606825, -1.        ],\n",
              "       [ 0.28671682,  1.        ],\n",
              "       [ 0.00354195, -1.        ],\n",
              "       [ 0.23993027,  1.        ],\n",
              "       [ 0.9030254 ,  1.        ],\n",
              "       [ 0.7452805 , -1.        ],\n",
              "       [ 0.18519163,  1.        ],\n",
              "       [ 0.6614896 , -1.        ],\n",
              "       [ 0.8106611 , -1.        ],\n",
              "       [ 0.25668597, -1.        ],\n",
              "       [ 0.10179651, -1.        ],\n",
              "       [ 0.44400036,  1.        ],\n",
              "       [ 0.5889534 ,  1.        ],\n",
              "       [ 0.5614022 , -1.        ],\n",
              "       [ 0.21436226,  1.        ],\n",
              "       [ 0.1981417 , -1.        ]], dtype=float32)>"
            ]
          },
          "metadata": {},
          "execution_count": 30
        }
      ]
    },
    {
      "cell_type": "code",
      "source": [
        "u_b = fun_u_b(t_b, x_b)\n",
        "u_b"
      ],
      "metadata": {
        "colab": {
          "base_uri": "https://localhost:8080/"
        },
        "id": "H-0BWHlsC59X",
        "outputId": "c8fc56ff-00c3-438e-ed37-060cc316cbc4"
      },
      "execution_count": 31,
      "outputs": [
        {
          "output_type": "execute_result",
          "data": {
            "text/plain": [
              "<tf.Tensor: shape=(50, 1), dtype=float32, numpy=\n",
              "array([[0.],\n",
              "       [0.],\n",
              "       [0.],\n",
              "       [0.],\n",
              "       [0.],\n",
              "       [0.],\n",
              "       [0.],\n",
              "       [0.],\n",
              "       [0.],\n",
              "       [0.],\n",
              "       [0.],\n",
              "       [0.],\n",
              "       [0.],\n",
              "       [0.],\n",
              "       [0.],\n",
              "       [0.],\n",
              "       [0.],\n",
              "       [0.],\n",
              "       [0.],\n",
              "       [0.],\n",
              "       [0.],\n",
              "       [0.],\n",
              "       [0.],\n",
              "       [0.],\n",
              "       [0.],\n",
              "       [0.],\n",
              "       [0.],\n",
              "       [0.],\n",
              "       [0.],\n",
              "       [0.],\n",
              "       [0.],\n",
              "       [0.],\n",
              "       [0.],\n",
              "       [0.],\n",
              "       [0.],\n",
              "       [0.],\n",
              "       [0.],\n",
              "       [0.],\n",
              "       [0.],\n",
              "       [0.],\n",
              "       [0.],\n",
              "       [0.],\n",
              "       [0.],\n",
              "       [0.],\n",
              "       [0.],\n",
              "       [0.],\n",
              "       [0.],\n",
              "       [0.],\n",
              "       [0.],\n",
              "       [0.]], dtype=float32)>"
            ]
          },
          "metadata": {},
          "execution_count": 31
        }
      ]
    },
    {
      "cell_type": "code",
      "source": [
        "pl.scatter(t_b, x_b, c=u_b, marker='o')\n",
        "pl.scatter(t_0, x_0, c=u_0, marker='o')\n",
        "pl.xlabel(\"t\")\n",
        "pl.ylabel(\"x\");"
      ],
      "metadata": {
        "colab": {
          "base_uri": "https://localhost:8080/",
          "height": 279
        },
        "id": "0V32VVTMCuEP",
        "outputId": "71a31527-4615-413d-ee9c-9d4a9569e0ef"
      },
      "execution_count": 34,
      "outputs": [
        {
          "output_type": "display_data",
          "data": {
            "image/png": "[encoded data removed]",
            "text/plain": [
              "<Figure size 432x288 with 1 Axes>"
            ]
          },
          "metadata": {
            "needs_background": "light"
          }
        }
      ]
    },
    {
      "cell_type": "code",
      "source": [
        "t_r = tf.random.uniform((n_r, 1), tmin, tmax, dtype=\"float32\")\n",
        "x_r = tf.random.uniform((n_r, 1), xmin, xmax, dtype=\"float32\")\n",
        "X_r = tf.concat([t_r, x_r], axis=1)\n",
        "X_r"
      ],
      "metadata": {
        "colab": {
          "base_uri": "https://localhost:8080/"
        },
        "id": "kxfIZ-ptCzkU",
        "outputId": "b782890f-6faa-494e-8311-1b849a788cac"
      },
      "execution_count": 35,
      "outputs": [
        {
          "output_type": "execute_result",
          "data": {
            "text/plain": [
              "<tf.Tensor: shape=(10000, 2), dtype=float32, numpy=\n",
              "array([[ 0.60703206,  0.47292185],\n",
              "       [ 0.06531429,  0.83855534],\n",
              "       [ 0.5927547 , -0.8628118 ],\n",
              "       ...,\n",
              "       [ 0.6859373 ,  0.52182484],\n",
              "       [ 0.26668394,  0.5845585 ],\n",
              "       [ 0.16582847, -0.9093933 ]], dtype=float32)>"
            ]
          },
          "metadata": {},
          "execution_count": 35
        }
      ]
    },
    {
      "cell_type": "code",
      "source": [
        "nnmodel = tf.keras.Sequential()\n",
        "\n",
        "nnomdel.add(tf.keras.Input(2))\n",
        "\n",
        "# hidden layers\n",
        "for i in range(8):\n",
        "  nnmodel.add(tf.keras.layers.Dense(20, activation=\"tanh\"))\n",
        "\n",
        "# output layer is 1d\n",
        "nnmodel.add(tf.keras.layers.Dense(1))"
      ],
      "metadata": {
        "id": "-EhtC-wUDoNF"
      },
      "execution_count": 37,
      "outputs": []
    },
    {
      "cell_type": "code",
      "source": [
        "optim = tf.keras.optimizers.Adam(learning_rate=0.001)\n",
        "def custom_loss(u_pred, u_data):\n",
        "  return tf.reduce_mean(tf.square(u_data - u_pred))"
      ],
      "metadata": {
        "id": "rvUVwZYhELV5"
      },
      "execution_count": 38,
      "outputs": []
    },
    {
      "cell_type": "code",
      "source": [
        "nnmodel.compile(loss=custom_loss, optimizer=optim)"
      ],
      "metadata": {
        "id": "zG1x287UEdiF"
      },
      "execution_count": 39,
      "outputs": []
    },
    {
      "cell_type": "code",
      "source": [
        "history = nnmodel.fit(X, y, epochs=1000)"
      ],
      "metadata": {
        "id": "JQfmQRZ6EjFV"
      },
      "execution_count": null,
      "outputs": []
    },
    {
      "cell_type": "code",
      "source": [
        "nnmodel.predict(tf.concat([t_r, x_r], axis=1))"
      ],
      "metadata": {
        "id": "ugbvvYWzE2vj"
      },
      "execution_count": null,
      "outputs": []
    },
    {
      "cell_type": "markdown",
      "source": [
        "If loss function is very spiky then I need to change my learning rate (specifically need to make it smaller). Could even do an adaptive learning rate if necessary (would need to look up how to do this)."
      ],
      "metadata": {
        "id": "yeSUUuZ5GN8L"
      }
    }
  ]
}